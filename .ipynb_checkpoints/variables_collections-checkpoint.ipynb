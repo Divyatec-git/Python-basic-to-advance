{
 "cells": [
  {
   "cell_type": "code",
   "execution_count": null,
   "id": "616891b9-5366-427d-9938-b2f376f65e86",
   "metadata": {},
   "outputs": [],
   "source": [
    "List -  mutable"
   ]
  },
  {
   "cell_type": "code",
   "execution_count": 25,
   "id": "a7b53742-7b1b-41e2-9f55-81bc26df7241",
   "metadata": {},
   "outputs": [
    {
     "name": "stdout",
     "output_type": "stream",
     "text": [
      "[1, 2, 3, 4, 5]\n"
     ]
    }
   ],
   "source": [
    "my_list = [1,2,3,4,5]\n",
    "print(my_list)"
   ]
  },
  {
   "cell_type": "code",
   "execution_count": 2,
   "id": "336298f8-d7b2-4820-98d7-7fe7ecd5a93e",
   "metadata": {},
   "outputs": [
    {
     "name": "stdout",
     "output_type": "stream",
     "text": [
      "[1, 2, 3, 4, 5, 6]\n"
     ]
    }
   ],
   "source": [
    "my_list.append(6)\n",
    "print(my_list)"
   ]
  },
  {
   "cell_type": "code",
   "execution_count": 30,
   "id": "ac342585-6da9-482f-8458-8cf447d22b2c",
   "metadata": {},
   "outputs": [
    {
     "name": "stdout",
     "output_type": "stream",
     "text": [
      "[1, 2, 3, 4, 5, 7, 8, 7, 8]\n"
     ]
    }
   ],
   "source": [
    "my_list.extend([7,8]) #Add multiple items\n",
    "print(my_list)"
   ]
  },
  {
   "cell_type": "code",
   "execution_count": 31,
   "id": "43c349a4-0990-4810-bb1b-d8305b6b31fd",
   "metadata": {},
   "outputs": [
    {
     "name": "stdout",
     "output_type": "stream",
     "text": [
      "[1, 2, '10', 3, 4, 5, 7, 8, 7, 8]\n"
     ]
    }
   ],
   "source": [
    "my_list.insert(2,'10') # Insert at index\n",
    "print(my_list)"
   ]
  },
  {
   "cell_type": "code",
   "execution_count": 32,
   "id": "633bfaea-d954-496b-9fe1-ebc9237c5f7c",
   "metadata": {},
   "outputs": [
    {
     "name": "stdout",
     "output_type": "stream",
     "text": [
      "[1, 2, '10', 3, 4, 5, 7, 7, 8]\n"
     ]
    }
   ],
   "source": [
    "my_list.remove(8) # remove first ocuurance\n",
    "print(my_list)"
   ]
  },
  {
   "cell_type": "code",
   "execution_count": 18,
   "id": "dbbb488c-9d4d-45bc-b0c6-e67d2b027372",
   "metadata": {},
   "outputs": [
    {
     "data": {
      "text/plain": [
       "3"
      ]
     },
     "execution_count": 18,
     "metadata": {},
     "output_type": "execute_result"
    }
   ],
   "source": [
    "my_list.pop(3) #Remove and return item at index"
   ]
  },
  {
   "cell_type": "code",
   "execution_count": 22,
   "id": "6dc98212-b123-453b-91ba-24b9633d38be",
   "metadata": {},
   "outputs": [
    {
     "name": "stdout",
     "output_type": "stream",
     "text": [
      "[1, 2, 3, 4, 5]\n"
     ]
    }
   ],
   "source": [
    "print(my_list)"
   ]
  },
  {
   "cell_type": "code",
   "execution_count": 23,
   "id": "5f4e1eff-b8e9-4a04-b370-d357860e36e6",
   "metadata": {},
   "outputs": [],
   "source": [
    "my_list.clear() # Remove all items"
   ]
  },
  {
   "cell_type": "code",
   "execution_count": 24,
   "id": "26058cfd-a0e6-4f1a-a1d1-f4e2bc078bdf",
   "metadata": {},
   "outputs": [
    {
     "name": "stdout",
     "output_type": "stream",
     "text": [
      "[]\n"
     ]
    }
   ],
   "source": [
    "print(my_list)"
   ]
  },
  {
   "cell_type": "code",
   "execution_count": 26,
   "id": "765c6824-21da-4f6d-88ef-9f01dd622291",
   "metadata": {},
   "outputs": [
    {
     "data": {
      "text/plain": [
       "3"
      ]
     },
     "execution_count": 26,
     "metadata": {},
     "output_type": "execute_result"
    }
   ],
   "source": [
    "my_list.index(4) #Get index of first occurrence"
   ]
  },
  {
   "cell_type": "code",
   "execution_count": 33,
   "id": "a233905d-fafa-41b8-abd7-c6591cc5375e",
   "metadata": {},
   "outputs": [
    {
     "data": {
      "text/plain": [
       "2"
      ]
     },
     "execution_count": 33,
     "metadata": {},
     "output_type": "execute_result"
    }
   ],
   "source": [
    "my_list.count(7) #Count how many times an item appears"
   ]
  },
  {
   "cell_type": "code",
   "execution_count": 39,
   "id": "5b92f6b0-2cb1-48be-a617-c0738c3f6779",
   "metadata": {},
   "outputs": [
    {
     "name": "stdout",
     "output_type": "stream",
     "text": [
      "['apple', 'banana', 'chiku', 'kivi']\n"
     ]
    }
   ],
   "source": [
    "my_list.clear()\n",
    "my_list.extend([\"apple\",\"kivi\",\"banana\",\"chiku\"])\n",
    "my_list.sort() #Sort the list in place support only str\n",
    "print(my_list)"
   ]
  },
  {
   "cell_type": "code",
   "execution_count": 43,
   "id": "d1857501-2263-4e99-8aa1-af97b8382271",
   "metadata": {},
   "outputs": [
    {
     "name": "stdout",
     "output_type": "stream",
     "text": [
      "['apple', 'banana', 'chiku', 'kivi']\n"
     ]
    }
   ],
   "source": [
    "my_list.reverse()\n",
    "print(my_list)"
   ]
  },
  {
   "cell_type": "code",
   "execution_count": 44,
   "id": "eaf64a57-957f-4019-a190-a6690013e8cd",
   "metadata": {},
   "outputs": [
    {
     "name": "stdout",
     "output_type": "stream",
     "text": [
      "['apple', 'banana', 'chiku', 'kivi']\n"
     ]
    }
   ],
   "source": [
    "cclone = my_list.copy() # Make a shallow copy of the list\n",
    "print(cclone)"
   ]
  },
  {
   "cell_type": "code",
   "execution_count": null,
   "id": "486bdef3-d958-4a86-b025-f5e889afbadc",
   "metadata": {
    "jupyter": {
     "source_hidden": true
    }
   },
   "outputs": [],
   "source": [
    "Tuple"
   ]
  },
  {
   "cell_type": "code",
   "execution_count": 48,
   "id": "0c245b27-4e94-44a5-ba9a-3bd49f50cd1a",
   "metadata": {},
   "outputs": [],
   "source": [
    "my_tuple = (1, 2, 3, 4)"
   ]
  },
  {
   "cell_type": "code",
   "execution_count": 49,
   "id": "32cf6049-a8be-4fb4-a47e-e1297c1400ab",
   "metadata": {},
   "outputs": [
    {
     "name": "stdout",
     "output_type": "stream",
     "text": [
      "(1, 2, 3, 4)\n"
     ]
    }
   ],
   "source": [
    "print(my_tuple)"
   ]
  },
  {
   "cell_type": "code",
   "execution_count": 54,
   "id": "e082b97b-b5dd-4ab2-90c6-86fa7d07f3e5",
   "metadata": {},
   "outputs": [
    {
     "name": "stdout",
     "output_type": "stream",
     "text": [
      "3  and  0\n"
     ]
    }
   ],
   "source": [
    "fruits = [\"apple\", \"banana\", \"banana\", \"cherry\", \"banana\"]\n",
    "count = fruits.count(\"banana\")\n",
    "count_new = fruits.count(\"xyz\")\n",
    "\n",
    "print(count,' and ',count_new)\n"
   ]
  },
  {
   "cell_type": "code",
   "execution_count": 60,
   "id": "0bd87e49-ed44-4871-92fd-8b6d99b6b51c",
   "metadata": {},
   "outputs": [
    {
     "name": "stdout",
     "output_type": "stream",
     "text": [
      "3\n"
     ]
    }
   ],
   "source": [
    "fruits = [\"apple\", \"banana\", \"banana\", \"cherry\", \"banana\"]\n",
    "index = fruits.index(\"cherry\") #Find the index (position) of the first occurrence of an item\n",
    "#fruits.index(\"zxyz\") # error  ValueError: 'zxyz' is not in list\n",
    "print(index)"
   ]
  },
  {
   "cell_type": "code",
   "execution_count": 94,
   "id": "59976bb1-9c82-406e-bdc5-52d4cad4daf0",
   "metadata": {},
   "outputs": [
    {
     "name": "stdout",
     "output_type": "stream",
     "text": [
      "1 2 3\n",
      "1 - [2, 3] - 6\n",
      "4 5 6\n"
     ]
    }
   ],
   "source": [
    "a, b, c = (1, 2, 3)\n",
    "print(a,b,c)\n",
    "a, *b, c = (1,2,3,6)\n",
    "print(a,'-',b,'-',c)\n",
    "d, e, f = 4, 5, 6\n",
    "print(d,e,f)"
   ]
  },
  {
   "cell_type": "code",
   "execution_count": null,
   "id": "acb579a6-b477-4b0f-adf9-2cde0d9cc632",
   "metadata": {
    "jupyter": {
     "source_hidden": true
    }
   },
   "outputs": [],
   "source": [
    "set \n",
    "Unordered , No Duplicates, Mutable"
   ]
  },
  {
   "cell_type": "code",
   "execution_count": 61,
   "id": "a04e79dd-588f-452b-acab-876ef245ded8",
   "metadata": {},
   "outputs": [
    {
     "name": "stdout",
     "output_type": "stream",
     "text": [
      "{1, 2, 3}\n"
     ]
    }
   ],
   "source": [
    "my_set = {1, 2, 3}\n",
    "print(my_set)"
   ]
  },
  {
   "cell_type": "code",
   "execution_count": 62,
   "id": "15913cc9-f1bb-4689-bacd-a5327449c305",
   "metadata": {},
   "outputs": [
    {
     "name": "stdout",
     "output_type": "stream",
     "text": [
      "{1, 2, 3}\n"
     ]
    }
   ],
   "source": [
    "my_set = {1, 2}\n",
    "my_set.add(3)\n",
    "print(my_set) "
   ]
  },
  {
   "cell_type": "code",
   "execution_count": 81,
   "id": "7fb589d9-01d4-4336-8844-a9451a853682",
   "metadata": {},
   "outputs": [
    {
     "name": "stdout",
     "output_type": "stream",
     "text": [
      "{1, 2, 3, 4, 5, 6}\n"
     ]
    }
   ],
   "source": [
    "my_set = {1, 2}\n",
    "my_set.update([3, 4], (5, 6)) # add mauliple values\n",
    "print(my_set) "
   ]
  },
  {
   "cell_type": "code",
   "execution_count": 68,
   "id": "174c692b-e954-49a7-9715-54f93f2f1d0f",
   "metadata": {},
   "outputs": [
    {
     "name": "stdout",
     "output_type": "stream",
     "text": [
      "{1, 3, 4, 5, 6}\n"
     ]
    }
   ],
   "source": [
    "my_set.remove(2)\n",
    "print(my_set)\n",
    "# my_set.remove(5)  # ❌ Raises KeyError"
   ]
  },
  {
   "cell_type": "code",
   "execution_count": 78,
   "id": "2dde12ba-c91b-409b-9b1b-a88d7f6f014a",
   "metadata": {},
   "outputs": [
    {
     "name": "stdout",
     "output_type": "stream",
     "text": [
      "{1, 3, 4, 6}\n"
     ]
    }
   ],
   "source": [
    "# Removes the element. No error if not found.\n",
    "my_set.discard(2)\n",
    "my_set.discard(5)  # ✅ No error\n",
    "print(my_set)"
   ]
  },
  {
   "cell_type": "code",
   "execution_count": 80,
   "id": "a079575f-4b20-4bce-bc9c-aea7082c1185",
   "metadata": {},
   "outputs": [
    {
     "name": "stdout",
     "output_type": "stream",
     "text": [
      "{4, 6}\n"
     ]
    }
   ],
   "source": [
    "my_set.pop() # Removes and returns a random element.\n",
    "print(my_set)"
   ]
  },
  {
   "cell_type": "code",
   "execution_count": 82,
   "id": "2e11c023-632c-468d-8c67-4ff581095bb9",
   "metadata": {},
   "outputs": [
    {
     "name": "stdout",
     "output_type": "stream",
     "text": [
      "set()\n"
     ]
    }
   ],
   "source": [
    "my_set.clear()\n",
    "print(my_set) "
   ]
  },
  {
   "cell_type": "code",
   "execution_count": 83,
   "id": "e7a7d810-026b-45a8-8230-537d4c3e7c73",
   "metadata": {},
   "outputs": [
    {
     "name": "stdout",
     "output_type": "stream",
     "text": [
      "{1, 2, 3, 4}\n"
     ]
    }
   ],
   "source": [
    "a = {1, 2}\n",
    "b = {2, 3, 4}\n",
    "print(a.union(b)) \n",
    "#Combines elements of two sets (removes duplicates)"
   ]
  },
  {
   "cell_type": "code",
   "execution_count": 84,
   "id": "50fb6127-81fb-4438-a736-f3d8169bf443",
   "metadata": {},
   "outputs": [
    {
     "name": "stdout",
     "output_type": "stream",
     "text": [
      "{2, 3}\n"
     ]
    }
   ],
   "source": [
    "a = {1, 2, 3}\n",
    "b = {2, 3, 4}\n",
    "print(a.intersection(b)) \n",
    "#Returns elements common to both sets"
   ]
  },
  {
   "cell_type": "code",
   "execution_count": 86,
   "id": "aa87aded-9f3c-412e-83a1-7ed7664180d7",
   "metadata": {},
   "outputs": [
    {
     "name": "stdout",
     "output_type": "stream",
     "text": [
      "{1}\n"
     ]
    }
   ],
   "source": [
    "a = {1, 2, 3}\n",
    "b = {2, 3, 4}\n",
    "print(a.difference(b))\n",
    "#Returns elements in a but not in b"
   ]
  },
  {
   "cell_type": "code",
   "execution_count": 88,
   "id": "da98e24d-e15c-475d-98bc-5ccf77845cfc",
   "metadata": {},
   "outputs": [
    {
     "name": "stdout",
     "output_type": "stream",
     "text": [
      "True\n",
      "True\n"
     ]
    }
   ],
   "source": [
    "a = {1, 2}\n",
    "b = {1, 2, 3}\n",
    "print(a.issubset(b)) #Checks if all elements of set a are in set b\n",
    "\n",
    "\n",
    "a = {1, 2, 3, 4}\n",
    "b = {2, 3}\n",
    "print(a.issuperset(b)) #Checks if set a contains all elements of set b\n"
   ]
  },
  {
   "cell_type": "code",
   "execution_count": null,
   "id": "91e3c8d4-812b-41e8-9f0b-5ae2613ca07b",
   "metadata": {
    "jupyter": {
     "source_hidden": true
    }
   },
   "outputs": [],
   "source": [
    "Dictionary \n",
    "Unordered"
   ]
  },
  {
   "cell_type": "code",
   "execution_count": 134,
   "id": "c11c950b-8d6c-4a51-b15c-2f1cf07ed0f6",
   "metadata": {},
   "outputs": [
    {
     "name": "stdout",
     "output_type": "stream",
     "text": [
      "{'name': 'Alice', 'age': 25}\n"
     ]
    }
   ],
   "source": [
    "my_dict = {'name': 'Alice', 'age': 25}\n",
    "print(my_dict)"
   ]
  },
  {
   "cell_type": "code",
   "execution_count": 124,
   "id": "c91a3363-006e-4085-966e-457f80c07ff5",
   "metadata": {},
   "outputs": [
    {
     "ename": "TypeError",
     "evalue": "unhashable type: 'list'",
     "output_type": "error",
     "traceback": [
      "\u001b[1;31m---------------------------------------------------------------------------\u001b[0m",
      "\u001b[1;31mTypeError\u001b[0m                                 Traceback (most recent call last)",
      "Cell \u001b[1;32mIn[124], line 1\u001b[0m\n\u001b[1;32m----> 1\u001b[0m invalid_dict \u001b[38;5;241m=\u001b[39m {[\u001b[38;5;241m1\u001b[39m,\u001b[38;5;241m2\u001b[39m,\u001b[38;5;241m3\u001b[39m]: \u001b[38;5;124m\"\u001b[39m\u001b[38;5;124m123\u001b[39m\u001b[38;5;124m\"\u001b[39m}  \u001b[38;5;66;03m# => Yield a TypeError: unhashable type: 'list'\u001b[39;00m\n\u001b[0;32m      2\u001b[0m valid_dict \u001b[38;5;241m=\u001b[39m {(\u001b[38;5;241m1\u001b[39m,\u001b[38;5;241m2\u001b[39m,\u001b[38;5;241m3\u001b[39m):[\u001b[38;5;241m1\u001b[39m,\u001b[38;5;241m2\u001b[39m,\u001b[38;5;241m3\u001b[39m]}   \u001b[38;5;66;03m# Values can be of any type, however.\u001b[39;00m\n",
      "\u001b[1;31mTypeError\u001b[0m: unhashable type: 'list'"
     ]
    }
   ],
   "source": [
    "invalid_dict = {[1,2,3]: \"123\"}  # => Yield a TypeError: unhashable type: 'list'\n",
    "valid_dict = {(1,2,3):[1,2,3]}   # Values can be of any type, however."
   ]
  },
  {
   "cell_type": "code",
   "execution_count": 125,
   "id": "18b53c05-8546-4db8-89e9-a01629888a88",
   "metadata": {},
   "outputs": [
    {
     "name": "stdout",
     "output_type": "stream",
     "text": [
      "Alice\n",
      "N/A1212\n",
      "dict_keys(['name', 'age'])\n",
      "dict_values(['Alice', 25])\n",
      "items -  dict_items([('name', 'Alice'), ('age', 25)])\n"
     ]
    }
   ],
   "source": [
    "print(my_dict.get(\"name\"))       \n",
    "print(my_dict.get(\"gender\", \"N/A1212\"))  # Output: N/A1212 (default if key not found)\n",
    "print(my_dict.keys()) # print keys\n",
    "print(my_dict.values()) \n",
    "print(\"items - \" ,my_dict.items())"
   ]
  },
  {
   "cell_type": "code",
   "execution_count": 138,
   "id": "3260e07f-f8f0-4379-a22a-cdb4bc2273fc",
   "metadata": {},
   "outputs": [
    {
     "name": "stdout",
     "output_type": "stream",
     "text": [
      "{'name': 'Alice', 'age': 25, 'email': 'alice@example12.com'}\n"
     ]
    }
   ],
   "source": [
    "my_dict.update({\"email\": \"alice@example12.com\"})\n",
    "print(my_dict)|"
   ]
  },
  {
   "cell_type": "code",
   "execution_count": 127,
   "id": "2fe70f16-65f4-4a2b-840f-cde32bc71504",
   "metadata": {},
   "outputs": [
    {
     "name": "stdout",
     "output_type": "stream",
     "text": [
      "alice@example12.com\n"
     ]
    },
    {
     "ename": "TypeError",
     "evalue": "'dict' object is not callable",
     "output_type": "error",
     "traceback": [
      "\u001b[1;31m---------------------------------------------------------------------------\u001b[0m",
      "\u001b[1;31mTypeError\u001b[0m                                 Traceback (most recent call last)",
      "Cell \u001b[1;32mIn[127], line 3\u001b[0m\n\u001b[0;32m      1\u001b[0m t1 \u001b[38;5;241m=\u001b[39m my_dict\u001b[38;5;241m.\u001b[39mget(\u001b[38;5;124m\"\u001b[39m\u001b[38;5;124memail\u001b[39m\u001b[38;5;124m\"\u001b[39m)\n\u001b[0;32m      2\u001b[0m \u001b[38;5;28mprint\u001b[39m(t1)\n\u001b[1;32m----> 3\u001b[0m t2 \u001b[38;5;241m=\u001b[39m \u001b[43mmy_dict\u001b[49m\u001b[43m(\u001b[49m\u001b[38;5;124;43m\"\u001b[39;49m\u001b[38;5;124;43mnumber\u001b[39;49m\u001b[38;5;124;43m\"\u001b[39;49m\u001b[43m)\u001b[49m\n\u001b[0;32m      4\u001b[0m \u001b[38;5;28mprint\u001b[39m(t2)\n",
      "\u001b[1;31mTypeError\u001b[0m: 'dict' object is not callable"
     ]
    }
   ],
   "source": [
    "t1 = my_dict.get(\"email\")\n",
    "print(t1)\n",
    "t2 = my_dict(\"number\")\n",
    "print(t2)"
   ]
  },
  {
   "cell_type": "code",
   "execution_count": 128,
   "id": "88810c77-76a8-4d5e-80a5-73c6527e0013",
   "metadata": {},
   "outputs": [
    {
     "name": "stdout",
     "output_type": "stream",
     "text": [
      "25\n",
      "{'name': 'Alice', 'email': 'alice@example12.com'}\n"
     ]
    }
   ],
   "source": [
    "age = my_dict.pop(\"age\") #Remove and return a key's value\n",
    "print(age)        # 25\n",
    "print(my_dict)"
   ]
  },
  {
   "cell_type": "code",
   "execution_count": 107,
   "id": "5569e100-e7cd-4b04-86fb-ed5b1e9578d5",
   "metadata": {},
   "outputs": [
    {
     "name": "stdout",
     "output_type": "stream",
     "text": [
      "('email', 'alice@example12.com')\n"
     ]
    }
   ],
   "source": [
    "item = my_dict.popitem() #Remove and return the last inserted key-value pair\n",
    "print(item) "
   ]
  },
  {
   "cell_type": "code",
   "execution_count": 119,
   "id": "feb2c840-f161-456b-a3cb-7027364781de",
   "metadata": {},
   "outputs": [
    {
     "name": "stdout",
     "output_type": "stream",
     "text": [
      "{}\n",
      "{'gender': 'female'}\n"
     ]
    }
   ],
   "source": [
    "my_dict.clear()\n",
    "print(my_dict)\n",
    "my_dict.setdefault(\"gender\", \"female\") \n",
    "my_dict.setdefault(\"gender\", \"male\") # we can not chnagebafter set default still o/p will be female\n",
    "print(my_dict)"
   ]
  },
  {
   "cell_type": "code",
   "execution_count": 139,
   "id": "c83833e9-0f68-4299-a78e-c939f013daa8",
   "metadata": {},
   "outputs": [],
   "source": [
    "del my_dict[\"email\"]  # Removes the key \"one\" from filled dict"
   ]
  },
  {
   "cell_type": "code",
   "execution_count": 130,
   "id": "2a28fb9b-e10a-4c3d-8290-72e819b1c6dd",
   "metadata": {},
   "outputs": [
    {
     "name": "stdout",
     "output_type": "stream",
     "text": [
      "{'name': 'Alice'}\n"
     ]
    }
   ],
   "source": [
    "print(my_dict)"
   ]
  },
  {
   "cell_type": "code",
   "execution_count": null,
   "id": "b58949c0-ec17-4b72-b90e-e62cebc09bc3",
   "metadata": {},
   "outputs": [],
   "source": []
  }
 ],
 "metadata": {
  "kernelspec": {
   "display_name": "Python 3 (ipykernel)",
   "language": "python",
   "name": "python3"
  },
  "language_info": {
   "codemirror_mode": {
    "name": "ipython",
    "version": 3
   },
   "file_extension": ".py",
   "mimetype": "text/x-python",
   "name": "python",
   "nbconvert_exporter": "python",
   "pygments_lexer": "ipython3",
   "version": "3.10.11"
  }
 },
 "nbformat": 4,
 "nbformat_minor": 5
}
