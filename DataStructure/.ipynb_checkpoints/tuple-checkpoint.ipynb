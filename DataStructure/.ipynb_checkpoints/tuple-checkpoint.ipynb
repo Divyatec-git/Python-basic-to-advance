{
 "cells": [
  {
   "cell_type": "markdown",
   "id": "dff52124-84a4-4ca1-94aa-be22121d505c",
   "metadata": {},
   "source": [
    "**Tuple** - **Immutable: Cannot be modified after creation.**"
   ]
  },
  {
   "cell_type": "raw",
   "id": "49e9b369-3a1f-4b3c-b3cb-dd4ba4a37f6d",
   "metadata": {},
   "source": [
    "A tuple is an immutable (unchangeable) sequence type"
   ]
  },
  {
   "cell_type": "code",
   "execution_count": null,
   "id": "6ae2e9b9-ec2a-4c4b-bb5e-4b181e57d025",
   "metadata": {},
   "outputs": [],
   "source": [
    "my_tuple = (1, 2, 3)"
   ]
  },
  {
   "cell_type": "raw",
   "id": "1af071ce-81d1-4ea3-a3d0-74f479b30c0e",
   "metadata": {},
   "source": [
    "A tuple with a single element must include a comma"
   ]
  },
  {
   "cell_type": "code",
   "execution_count": 3,
   "id": "3686afe2-3e4e-4168-8f0c-712811a125cf",
   "metadata": {},
   "outputs": [
    {
     "name": "stdout",
     "output_type": "stream",
     "text": [
      "5\n",
      "(5,)\n"
     ]
    }
   ],
   "source": [
    "single = (5,)  # not just (5)\n",
    "single_tup = (5) # not work as tuple\n",
    "print(single_tup)\n",
    "print(single)"
   ]
  },
  {
   "cell_type": "markdown",
   "id": "310583a0-e61c-4424-afb2-3e8ac38f868c",
   "metadata": {},
   "source": [
    "**Tuple get**"
   ]
  },
  {
   "cell_type": "code",
   "execution_count": 13,
   "id": "cb415c8c-0900-4979-8c87-f4d120949d5d",
   "metadata": {},
   "outputs": [
    {
     "name": "stdout",
     "output_type": "stream",
     "text": [
      "(2, 3, 4)\n",
      "(4, 1, 3, 89, 9)\n",
      "(1, 3, 89)\n",
      "()\n"
     ]
    }
   ],
   "source": [
    "tup = (2,3,4,1,3,89,9)\n",
    "print(tup[:3])\n",
    "print(tup[2:])\n",
    "print(tup[-4:-1])\n",
    "print(tup[-1:-3])"
   ]
  },
  {
   "cell_type": "raw",
   "id": "f7c040f4-8fe3-40ea-b99d-d030b9de0c06",
   "metadata": {},
   "source": [
    "The :: is part of extended slice syntax:\n",
    "start → where to begin (default: 0)\n",
    "stop → where to end (default: end of list)\n",
    "step → how much to jump (default: 1)\n",
    ":step:"
   ]
  },
  {
   "cell_type": "code",
   "execution_count": 28,
   "id": "47270157-f691-4586-9589-70c98851dc35",
   "metadata": {},
   "outputs": [
    {
     "name": "stdout",
     "output_type": "stream",
     "text": [
      "(3,)\n",
      "(43, 6, 7)\n",
      "(32, 6)\n"
     ]
    }
   ],
   "source": [
    "tup = (3,67,9,1,32,43,6,7,1)\n",
    "print(tup[0:2:5])\n",
    "print(tup[-4:-1])\n",
    "print(tup[-5:-2:2])"
   ]
  },
  {
   "cell_type": "markdown",
   "id": "f10cccf5-e649-49df-98b8-1a4ff66af73f",
   "metadata": {},
   "source": [
    "**count(x)**"
   ]
  },
  {
   "cell_type": "code",
   "execution_count": 31,
   "id": "8c43bf51-2a34-413b-a341-9013d7d04e3a",
   "metadata": {},
   "outputs": [
    {
     "name": "stdout",
     "output_type": "stream",
     "text": [
      "Number of 'M' size T-shirts sold: 4\n",
      "Number of 'L' size T-shirts sold: 3\n"
     ]
    }
   ],
   "source": [
    "sold_sizes = ('M', 'L', 'M', 'S', 'L', 'M', 'XL', 'L', 'M')\n",
    "m_count = sold_sizes.count('M')\n",
    "print(f\"Number of 'M' size T-shirts sold: {m_count}\")\n",
    "print(f\"Number of 'L' size T-shirts sold: {sold_sizes.count('L')}\")"
   ]
  },
  {
   "cell_type": "markdown",
   "id": "719619cc-ef36-4268-82b8-c4b5c06e3785",
   "metadata": {},
   "source": [
    "**index(x)** -Returns the index of the first occurrence of x."
   ]
  },
  {
   "cell_type": "code",
   "execution_count": 36,
   "id": "5f41228a-a1c1-485e-bb7c-2761fd44c32f",
   "metadata": {},
   "outputs": [
    {
     "name": "stdout",
     "output_type": "stream",
     "text": [
      "The train first stops at 'City Center' at position: 2\n",
      "The train first stops at 'Hilltop' at position: 4\n"
     ]
    }
   ],
   "source": [
    "#Imagine you’re managing a train schedule, and you have a tuple that stores the names of the stations in the order they appear on a route.\n",
    "stations = ('Central', 'Park Street', 'City Center', 'Lakeview', 'Hilltop', 'City Center')\n",
    "index_city_center = stations.index('City Center')\n",
    "print(f\"The train first stops at 'City Center' at position: {index_city_center}\")\n",
    "print(f\"The train first stops at 'Hilltop' at position: {stations.index('Hilltop')}\")"
   ]
  },
  {
   "cell_type": "markdown",
   "id": "1e325a93-7354-43a8-a01f-6b7acd75a4f8",
   "metadata": {},
   "source": [
    "**Not a built-in Tuple Methods but still can use with tuple**"
   ]
  },
  {
   "cell_type": "markdown",
   "id": "bcf6cb1e-3f34-4c20-ae98-ad567ee6c849",
   "metadata": {},
   "source": [
    "**len(t)**"
   ]
  },
  {
   "cell_type": "code",
   "execution_count": 60,
   "id": "fd72331e-9ce7-43bc-a698-a0ad26699911",
   "metadata": {},
   "outputs": [
    {
     "name": "stdout",
     "output_type": "stream",
     "text": [
      "5\n"
     ]
    }
   ],
   "source": [
    "t = (3, 1, 4, 1, 5)\n",
    "print(len(t))"
   ]
  },
  {
   "cell_type": "markdown",
   "id": "8981deba-9096-49d1-b77e-02e39c136521",
   "metadata": {},
   "source": [
    "**max(t)**"
   ]
  },
  {
   "cell_type": "code",
   "execution_count": 41,
   "id": "8226fbe5-de19-4eda-a99f-462926e4ff33",
   "metadata": {},
   "outputs": [
    {
     "name": "stdout",
     "output_type": "stream",
     "text": [
      "5\n"
     ]
    }
   ],
   "source": [
    "print(max(t))"
   ]
  },
  {
   "cell_type": "markdown",
   "id": "46082aff-7aa6-4307-98b4-4d8ac3d43ee7",
   "metadata": {},
   "source": [
    "**min(t)**"
   ]
  },
  {
   "cell_type": "code",
   "execution_count": 43,
   "id": "45b6a1c6-e253-4c46-ada1-5f53be22ba39",
   "metadata": {},
   "outputs": [
    {
     "name": "stdout",
     "output_type": "stream",
     "text": [
      "1\n"
     ]
    }
   ],
   "source": [
    "print(min(t))"
   ]
  },
  {
   "cell_type": "markdown",
   "id": "b96ba3b2-8df8-40be-bdf5-7bd2d582cc98",
   "metadata": {},
   "source": [
    "**sum(t)**"
   ]
  },
  {
   "cell_type": "code",
   "execution_count": 45,
   "id": "c6468129-ff92-4dd2-a7a3-a524fbd55e55",
   "metadata": {},
   "outputs": [
    {
     "name": "stdout",
     "output_type": "stream",
     "text": [
      "14\n"
     ]
    }
   ],
   "source": [
    "print(sum(t))"
   ]
  },
  {
   "cell_type": "markdown",
   "id": "171bace4-0ae3-443e-a236-c002fe1f99d8",
   "metadata": {},
   "source": [
    "**sorted(t)**"
   ]
  },
  {
   "cell_type": "code",
   "execution_count": 46,
   "id": "5429b8f7-9c17-4f65-917f-41e79f3fddd8",
   "metadata": {},
   "outputs": [
    {
     "name": "stdout",
     "output_type": "stream",
     "text": [
      "14\n"
     ]
    }
   ],
   "source": [
    "print(sum(t))"
   ]
  },
  {
   "cell_type": "markdown",
   "id": "980e0ca4-de3c-4b42-99a8-b9186fec940f",
   "metadata": {},
   "source": [
    "**any(t)** -Returns True if any element is truthy"
   ]
  },
  {
   "cell_type": "code",
   "execution_count": 62,
   "id": "1a4d0e55-673e-480f-8812-f0ebd4d9aee1",
   "metadata": {},
   "outputs": [
    {
     "name": "stdout",
     "output_type": "stream",
     "text": [
      "True\n",
      "False\n",
      "True\n",
      "False\n"
     ]
    }
   ],
   "source": [
    "print(any(t))\n",
    "tup = (0, 0, 0)\n",
    "print(any(tup))  # Output: False\n",
    "print(any(['', None, False, 'hello']))  # Output: True → 'hello' is truthy\n",
    "print(any([]))  # Output: False → empty list = falsy"
   ]
  },
  {
   "cell_type": "markdown",
   "id": "f056c7f2-67fe-450f-b9f0-f94a6367f7fc",
   "metadata": {},
   "source": [
    "**all()**  \n",
    "<br>True → if every element in the iterable is truthy<br>\n",
    "False → if any element is falsy"
   ]
  },
  {
   "cell_type": "code",
   "execution_count": 64,
   "id": "cadbcc76-4787-4b4f-8c12-a520bad4fa7c",
   "metadata": {},
   "outputs": [
    {
     "name": "stdout",
     "output_type": "stream",
     "text": [
      "True\n",
      "False\n"
     ]
    }
   ],
   "source": [
    "tup = (1, 2, 3)\n",
    "print(all(tup))  # Output: True\n",
    "tup = (1, 0, 3)\n",
    "print(all(tup))  # Output: False"
   ]
  },
  {
   "cell_type": "markdown",
   "id": "76c2445e-9f06-4e9a-9e77-e8abc6916f55",
   "metadata": {},
   "source": [
    "**Convert a string to a tuple:**"
   ]
  },
  {
   "cell_type": "code",
   "execution_count": 66,
   "id": "71cceba2-380a-44c2-97f3-8ba36d337e3c",
   "metadata": {},
   "outputs": [
    {
     "name": "stdout",
     "output_type": "stream",
     "text": [
      "('a', 'b', 'c')\n"
     ]
    }
   ],
   "source": [
    "s = \"abc\"\n",
    "print(tuple(s))  # Output: ('a', 'b', 'c')"
   ]
  },
  {
   "cell_type": "markdown",
   "id": "f2b41d0d-eb2f-417d-a7d5-a472a1b9ce04",
   "metadata": {},
   "source": [
    "**Convert a list to a tuple**"
   ]
  },
  {
   "cell_type": "code",
   "execution_count": 67,
   "id": "685738da-be24-47ca-b46c-68d82a2b5c51",
   "metadata": {},
   "outputs": [
    {
     "name": "stdout",
     "output_type": "stream",
     "text": [
      "(1, 2, 3)\n"
     ]
    }
   ],
   "source": [
    "my_list = [1, 2, 3]\n",
    "my_tuple = tuple(my_list)\n",
    "print(my_tuple)  # Output: (1, 2, 3)"
   ]
  },
  {
   "cell_type": "markdown",
   "id": "7ad790a7-a6b7-46dc-99ea-2e8e2577acfa",
   "metadata": {},
   "source": [
    "**Convert a set to a tuple**"
   ]
  },
  {
   "cell_type": "code",
   "execution_count": 69,
   "id": "c5732f90-ff96-4ed7-ab3c-a2e33f6c04e2",
   "metadata": {},
   "outputs": [
    {
     "name": "stdout",
     "output_type": "stream",
     "text": [
      "(10, 20, 30)\n"
     ]
    }
   ],
   "source": [
    "my_set = {10, 20, 30}\n",
    "print(tuple(my_set))  # Output: (10, 20, 30) — order may vary"
   ]
  },
  {
   "cell_type": "markdown",
   "id": "32dcf6d8-51b9-4046-977e-240d7330ef15",
   "metadata": {},
   "source": [
    "**Convert a dictionary to a tuple**"
   ]
  },
  {
   "cell_type": "code",
   "execution_count": 71,
   "id": "2bdf9d1e-de64-42cf-9711-c105b79f4f9e",
   "metadata": {},
   "outputs": [
    {
     "name": "stdout",
     "output_type": "stream",
     "text": [
      "('a', 'b')\n"
     ]
    }
   ],
   "source": [
    "my_dict = {'a': 1, 'b': 2}\n",
    "print(tuple(my_dict))  # Output: ('a', 'b') — only keys are taken"
   ]
  },
  {
   "cell_type": "code",
   "execution_count": null,
   "id": "81aa3558-f59f-476e-92b2-cc707eda7177",
   "metadata": {},
   "outputs": [],
   "source": []
  }
 ],
 "metadata": {
  "kernelspec": {
   "display_name": "Python 3 (ipykernel)",
   "language": "python",
   "name": "python3"
  },
  "language_info": {
   "codemirror_mode": {
    "name": "ipython",
    "version": 3
   },
   "file_extension": ".py",
   "mimetype": "text/x-python",
   "name": "python",
   "nbconvert_exporter": "python",
   "pygments_lexer": "ipython3",
   "version": "3.10.11"
  }
 },
 "nbformat": 4,
 "nbformat_minor": 5
}
