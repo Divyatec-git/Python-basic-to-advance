{
 "cells": [
  {
   "cell_type": "markdown",
   "id": "b69288ca-af94-43ab-9f9f-01289c869ce7",
   "metadata": {},
   "source": [
    "**<h1>set</h1>**"
   ]
  },
  {
   "cell_type": "markdown",
   "id": "bcb801da-050c-4032-9e50-19ef7a309dc7",
   "metadata": {},
   "source": [
    "A set is an **unordered, mutable collection of unique elements**."
   ]
  },
  {
   "cell_type": "raw",
   "id": "3323aa37-fe6b-4229-a025-726bba96671d",
   "metadata": {},
   "source": [
    "No duplicates\n",
    "Unordered (no indexing)\n",
    "Elements must be hashable (like numbers, strings, tuples)"
   ]
  },
  {
   "cell_type": "code",
   "execution_count": 1,
   "id": "539ee8ad-9ccc-4501-b67d-e8f550164cd3",
   "metadata": {},
   "outputs": [
    {
     "name": "stdout",
     "output_type": "stream",
     "text": [
      "{1, 2, 3}\n"
     ]
    }
   ],
   "source": [
    "my_set = {1, 2, 3}\n",
    "print(my_set)"
   ]
  },
  {
   "cell_type": "code",
   "execution_count": 2,
   "id": "cd273759-5547-4aeb-acb2-fce97ea4811b",
   "metadata": {},
   "outputs": [
    {
     "name": "stdout",
     "output_type": "stream",
     "text": [
      "{1, 2, 3}\n"
     ]
    }
   ],
   "source": [
    "my_set = set([1, 2, 3])\n",
    "print(my_set)"
   ]
  },
  {
   "cell_type": "markdown",
   "id": "b453cdc6-6cea-473f-8a73-2064b76774ea",
   "metadata": {},
   "source": [
    "**add()** -Adds a single element to the set (no duplicates).\n",
    "no specified index"
   ]
  },
  {
   "cell_type": "code",
   "execution_count": 8,
   "id": "a5aa34f1-0c28-44b1-83ae-8a0ea0818024",
   "metadata": {},
   "outputs": [
    {
     "name": "stdout",
     "output_type": "stream",
     "text": [
      "{'orange', 'banana', 'kivy', 'apple'}\n"
     ]
    }
   ],
   "source": [
    "#Use case: Add a new product to a cart, but only if it’s not already there.\n",
    "\n",
    "cart = {\"apple\", \"banana\"}\n",
    "cart.add(\"orange\")  # Adds \"orange\"\n",
    "cart.add(\"apple\")   # No effect, already exists\n",
    "cart.add(\"kivy\")\n",
    "print(cart)  # {'apple', 'banana', 'orange'}\n"
   ]
  },
  {
   "cell_type": "markdown",
   "id": "a0282f98-fe76-47a7-9e8c-a10c0865e369",
   "metadata": {},
   "source": [
    "**update()** -  Adds multiple elements to the set (can add from another set, list, or tuple)."
   ]
  },
  {
   "cell_type": "code",
   "execution_count": 21,
   "id": "9254f4fb-a799-4cb4-97ca-f1cbdef9b8c1",
   "metadata": {},
   "outputs": [
    {
     "name": "stdout",
     "output_type": "stream",
     "text": [
      "{'orange', 'banana', 'chiku', 'kivy', 'apple'}\n",
      "{'orange', 'banana', 'r', 'm', 'chiku', 'g', 's', 'n', 'p', 'a', 'o', 'kivy', 'apple'}\n"
     ]
    }
   ],
   "source": [
    "# Add multiple products to the shopping cart.\n",
    "cart = {\"apple\"}\n",
    "cart.update([\"banana\", \"orange\"])\n",
    "cart.update((\"kivy\", \"chiku\"))\n",
    "print(cart)  # {'apple', 'banana', 'orange'}\n",
    "cart.update(\"mango\", \"graps\") #it will add like this {'orange', 'banana', 'r', 'm', 'chiku', 'g', 's', 'n', 'p', 'a', 'o', 'kivy', 'apple'}\n",
    "print(cart)  # {'apple', 'banana', 'orange'}"
   ]
  },
  {
   "cell_type": "markdown",
   "id": "1cf07dc3-21cf-447d-bdb4-03395307e9ce",
   "metadata": {},
   "source": [
    "**remove()** -Removes an element from the set. Raises an error if the element is not found."
   ]
  },
  {
   "cell_type": "code",
   "execution_count": 24,
   "id": "d434ce66-9f5d-44a8-82e2-10fbaa75b782",
   "metadata": {},
   "outputs": [
    {
     "name": "stdout",
     "output_type": "stream",
     "text": [
      "{'apple'}\n"
     ]
    }
   ],
   "source": [
    "#Remove an item from a shopping cart.\n",
    "cart = {\"apple\", \"banana\"}\n",
    "cart.remove(\"banana\")\n",
    "print(cart)  # {'apple'}\n",
    "# cart.remove(\"grapes\")  # ❌ KeyError"
   ]
  },
  {
   "cell_type": "markdown",
   "id": "338d7b6f-dfbc-4eef-9e2d-98252ee1965b",
   "metadata": {},
   "source": [
    "**discard()** - Removes an element if present. Does not raise an error if the element is not found."
   ]
  },
  {
   "cell_type": "code",
   "execution_count": 26,
   "id": "fd20ba94-6fc3-4696-bf68-46796b7e54dd",
   "metadata": {},
   "outputs": [
    {
     "name": "stdout",
     "output_type": "stream",
     "text": [
      "{'apple'}\n"
     ]
    }
   ],
   "source": [
    "#Safely remove an item without error in a shopping cart.\n",
    "cart = {\"apple\", \"banana\"}\n",
    "cart.discard(\"banana\")\n",
    "cart.discard(\"grapes\")  # No error\n",
    "print(cart)  # {'apple'}"
   ]
  },
  {
   "cell_type": "markdown",
   "id": "a11a7ab9-c2ee-468c-bd1b-e69094d1ccbc",
   "metadata": {},
   "source": [
    "**pop()** - Removes and returns a random element from the set."
   ]
  },
  {
   "cell_type": "code",
   "execution_count": 34,
   "id": "ea33c685-8bb0-4e60-a554-03811274efa5",
   "metadata": {},
   "outputs": [
    {
     "name": "stdout",
     "output_type": "stream",
     "text": [
      "1\n"
     ]
    }
   ],
   "source": [
    "#Randomly remove a product from a cart\n",
    "cart = {\"apple\", \"banana\", \"orange\",\"idfdf\",\"sdsdf\"}\n",
    "# cart = {1, 2, 3,4,5}\n",
    "item = cart.pop()  # Randomly removes an item\n",
    "print(item)  # Could be any item"
   ]
  },
  {
   "cell_type": "markdown",
   "id": "af2ffea9-739a-4bf7-93a6-7867d77a9371",
   "metadata": {},
   "source": [
    "**clear()** -  Removes all elements from the set."
   ]
  },
  {
   "cell_type": "code",
   "execution_count": 37,
   "id": "579c9597-dce6-4488-b933-b4981d6d3986",
   "metadata": {},
   "outputs": [
    {
     "name": "stdout",
     "output_type": "stream",
     "text": [
      "set()\n"
     ]
    }
   ],
   "source": [
    "#Empty the cart (clear all products).\n",
    "cart = {\"apple\", \"banana\"}\n",
    "cart.clear()\n",
    "print(cart)  # set()"
   ]
  },
  {
   "cell_type": "markdown",
   "id": "5b35ad80-b9f7-4eab-96ed-27060bbd2c8f",
   "metadata": {},
   "source": [
    "**union() or |** -Returns a new set with all unique elements from both sets."
   ]
  },
  {
   "cell_type": "code",
   "execution_count": 39,
   "id": "3b6150ec-f3f1-4254-961d-3617ed7db8be",
   "metadata": {},
   "outputs": [
    {
     "name": "stdout",
     "output_type": "stream",
     "text": [
      "{'Bob', 'Alice', 'Charlie', 'usdsdf'}\n"
     ]
    }
   ],
   "source": [
    "friends1 = {\"Alice\", \"Bob\",\"usdsdf\"}\n",
    "friends2 = {\"Charlie\", \"Bob\"}\n",
    "print(friends1.union(friends2))  # {'Alice', 'Bob', 'Charlie'}"
   ]
  },
  {
   "cell_type": "markdown",
   "id": "b948e4a4-358e-4709-98fa-60e8f62a2b0a",
   "metadata": {},
   "source": [
    "**intersection() or &** - Returns a set with elements that are in both sets."
   ]
  },
  {
   "cell_type": "markdown",
   "id": "b96d503d-7465-47f3-8753-34a34dd24a39",
   "metadata": {},
   "source": [
    "friends1 = {\"Alice\", \"Bob\",\"abcd\"}\n",
    "friends2 = {\"abcd\",\"Bob\", \"Charlie\"}\n",
    "print(friends1.intersection(friends2))  # {'Bob'}"
   ]
  },
  {
   "cell_type": "markdown",
   "id": "5ba5fe5f-f5ea-4823-ae81-ceb73a489704",
   "metadata": {},
   "source": [
    "**difference() or -** - Returns a set with elements present in the first set but not in the second."
   ]
  },
  {
   "cell_type": "code",
   "execution_count": 48,
   "id": "63a11012-0b85-4359-acda-994a077d9333",
   "metadata": {},
   "outputs": [
    {
     "name": "stdout",
     "output_type": "stream",
     "text": [
      "{'Bob', 'Alice'}\n"
     ]
    }
   ],
   "source": [
    "#Find the products you have but the other person doesn’t.\n",
    "my_friends = {\"Alice\", \"Bob\", \"Charlie\"}\n",
    "their_friends = {\"Charlie\"}\n",
    "print(my_friends.difference(their_friends))  # {'Alice', 'Bob'}"
   ]
  },
  {
   "cell_type": "markdown",
   "id": "129a2f1f-802a-4a96-8184-0f35838564fd",
   "metadata": {},
   "source": [
    "**symmetric_difference() or ^** - Returns a set with elements in either set, but not in both."
   ]
  },
  {
   "cell_type": "code",
   "execution_count": 50,
   "id": "a9811c82-c461-4180-bd40-24814cf7e814",
   "metadata": {},
   "outputs": [
    {
     "name": "stdout",
     "output_type": "stream",
     "text": [
      "{'Alice', 'Charlie'}\n"
     ]
    }
   ],
   "source": [
    "#Find unique items between two people.\n",
    "a = {\"Alice\", \"Bob\"}\n",
    "b = {\"Bob\", \"Charlie\"}\n",
    "print(a.symmetric_difference(b))  # {'Alice', 'Charlie'}\n"
   ]
  },
  {
   "cell_type": "markdown",
   "id": "bbf068c3-4c8e-4198-92db-68cca929a12f",
   "metadata": {},
   "source": [
    "**issubset()** - Checks if all elements of the set are in another set."
   ]
  },
  {
   "cell_type": "code",
   "execution_count": 61,
   "id": "5d221eeb-2cff-45b2-aa3c-0504910bfefd",
   "metadata": {},
   "outputs": [
    {
     "name": "stdout",
     "output_type": "stream",
     "text": [
      "False\n"
     ]
    }
   ],
   "source": [
    "# Check if all tasks are completed from a list of required tasks.\n",
    "tasks_done = {\"email\", \"meeting\"}\n",
    "all_tasks = {\"email\", \"meeting\", \"call\"}   # if email and meeting not preset thne return fal\n",
    "print(tasks_done.issubset(all_tasks))  # True\n"
   ]
  },
  {
   "cell_type": "markdown",
   "id": "8c0bb674-02d1-44e9-9223-5c6b5fda9a5d",
   "metadata": {},
   "source": [
    "**issuperset()** - Checks if the set contains all elements of another set"
   ]
  },
  {
   "cell_type": "code",
   "execution_count": 60,
   "id": "72310b7d-d161-4b45-beb7-e0858e9de711",
   "metadata": {},
   "outputs": [
    {
     "name": "stdout",
     "output_type": "stream",
     "text": [
      "False\n"
     ]
    }
   ],
   "source": [
    "# Check if your friend has completed all tasks that you have.\n",
    "my_tasks = {\"email\", \"meeting\", \"call\"} # if email and meeting not preset thne return false\n",
    "other_tasks = {\"email\", \"meeting\"}\n",
    "print(my_tasks.issuperset(other_tasks))  # True"
   ]
  },
  {
   "cell_type": "markdown",
   "id": "88b9cce0-9fba-4fd4-bf03-986466aad631",
   "metadata": {},
   "source": [
    "**isdisjoint()** - Checks if the sets have no common elements."
   ]
  },
  {
   "cell_type": "code",
   "execution_count": 67,
   "id": "3df317d7-2d10-4c16-bd58-73c79bed21d9",
   "metadata": {},
   "outputs": [
    {
     "name": "stdout",
     "output_type": "stream",
     "text": [
      "True\n"
     ]
    }
   ],
   "source": [
    "# Check if two people's interests don’t overlap.\n",
    "interests1 = {\"coding\", \"music\"}\n",
    "interests2 = {\"travel\", \"sports\"}\n",
    "print(interests1.isdisjoint(interests2))  # True"
   ]
  },
  {
   "cell_type": "markdown",
   "id": "ebf8711e-e753-481c-8a4a-0dfc56d2c2b3",
   "metadata": {},
   "source": [
    "**copy()** - Returns a shallow copy of the set."
   ]
  },
  {
   "cell_type": "code",
   "execution_count": 71,
   "id": "0f87c955-7b57-492c-a8fc-9809f90a1d2d",
   "metadata": {},
   "outputs": [
    {
     "name": "stdout",
     "output_type": "stream",
     "text": [
      "{'banana', 'apple'}\n"
     ]
    }
   ],
   "source": [
    "# Copy your cart items to a new cart for later use.\n",
    "cart = {\"apple\", \"banana\"}\n",
    "new_cart = cart.copy()\n",
    "print(new_cart)  # {'apple', 'banana'}"
   ]
  },
  {
   "cell_type": "markdown",
   "id": "3d0d77c8-a4b2-4c29-b236-f654abd4e778",
   "metadata": {},
   "source": [
    "**Bonus Tip: Remove Duplicates from a List**"
   ]
  },
  {
   "cell_type": "code",
   "execution_count": 73,
   "id": "458fb226-d2e8-4384-9f15-5416139f9568",
   "metadata": {},
   "outputs": [
    {
     "name": "stdout",
     "output_type": "stream",
     "text": [
      "{'Bob', 'Alice', 'Charlie'}\n"
     ]
    }
   ],
   "source": [
    "names = [\"Alice\", \"Bob\", \"Alice\", \"Charlie\"]\n",
    "unique_names = set(names)\n",
    "print(unique_names)  # {'Alice', 'Charlie', 'Bob'}"
   ]
  },
  {
   "cell_type": "markdown",
   "id": "b773275b-cfa4-43b8-a641-d107afacea19",
   "metadata": {},
   "source": [
    "**set to list**"
   ]
  },
  {
   "cell_type": "code",
   "execution_count": 74,
   "id": "9e43ef9f-9cb1-4080-855b-1ae0a72b47a6",
   "metadata": {},
   "outputs": [
    {
     "name": "stdout",
     "output_type": "stream",
     "text": [
      "['banana', 'mango', 'apple']\n"
     ]
    }
   ],
   "source": [
    "products_set = {\"apple\", \"banana\", \"mango\"}\n",
    "products_list = list(products_set)\n",
    "print(products_list)  # ['apple', 'banana', 'mango'] (order not guaranteed)"
   ]
  },
  {
   "cell_type": "markdown",
   "id": "0e39e7d8-b8e0-4efc-b0c1-eaa65a290d44",
   "metadata": {},
   "source": [
    "**set to tuple**"
   ]
  },
  {
   "cell_type": "code",
   "execution_count": 75,
   "id": "52a8fbc9-dfe2-4cb1-858c-3bd95866ff9c",
   "metadata": {},
   "outputs": [
    {
     "name": "stdout",
     "output_type": "stream",
     "text": [
      "('red', 'green', 'blue')\n"
     ]
    }
   ],
   "source": [
    "unique_colors = {\"red\", \"blue\", \"green\"}\n",
    "colors_tuple = tuple(unique_colors)\n",
    "print(colors_tuple)  # ('red', 'blue', 'green')"
   ]
  },
  {
   "cell_type": "markdown",
   "id": "b7521e50-408c-45e7-98f7-06a471ab1556",
   "metadata": {},
   "source": [
    "**set to dict**"
   ]
  },
  {
   "cell_type": "code",
   "execution_count": 77,
   "id": "ac668098-fd7a-4ce1-8b43-b643d2fd3c3a",
   "metadata": {},
   "outputs": [
    {
     "name": "stdout",
     "output_type": "stream",
     "text": [
      "{'orange': 0, 'banana': 0, 'apple': 0}\n"
     ]
    }
   ],
   "source": [
    "products = {\"apple\", \"banana\", \"orange\"}\n",
    "stock_dict = dict.fromkeys(products, 0)\n",
    "print(stock_dict)  # {'apple': 0, 'banana': 0, 'orange': 0}"
   ]
  },
  {
   "cell_type": "code",
   "execution_count": null,
   "id": "a0b37f56-e12b-4cbd-b25b-5f7cc6af21ec",
   "metadata": {},
   "outputs": [],
   "source": []
  }
 ],
 "metadata": {
  "kernelspec": {
   "display_name": "Python 3 (ipykernel)",
   "language": "python",
   "name": "python3"
  },
  "language_info": {
   "codemirror_mode": {
    "name": "ipython",
    "version": 3
   },
   "file_extension": ".py",
   "mimetype": "text/x-python",
   "name": "python",
   "nbconvert_exporter": "python",
   "pygments_lexer": "ipython3",
   "version": "3.10.11"
  }
 },
 "nbformat": 4,
 "nbformat_minor": 5
}
