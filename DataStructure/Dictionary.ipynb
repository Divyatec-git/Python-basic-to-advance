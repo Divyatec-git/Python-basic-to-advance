{
 "cells": [
  {
   "cell_type": "markdown",
   "id": "46ad0c69-d427-449f-9079-8f114552744f",
   "metadata": {},
   "source": [
    "**<h1>Dictionary</h1>**"
   ]
  },
  {
   "cell_type": "raw",
   "id": "a63334a5-2025-4364-8f1d-fff5fbe37a0f",
   "metadata": {},
   "source": [
    "Keys must be unique.\n",
    "Values can be anything (numbers, lists, dicts, etc.).\n",
    "Defined using curly braces {}."
   ]
  },
  {
   "cell_type": "code",
   "execution_count": 2,
   "id": "d2f864ec-0b98-47d0-9fb9-45bcce87d5bc",
   "metadata": {},
   "outputs": [
    {
     "name": "stdout",
     "output_type": "stream",
     "text": [
      "{'name': 'John', 'age': 20, 'grade': 'A'}\n"
     ]
    }
   ],
   "source": [
    "student = {\n",
    "    \"name\": \"John\",\n",
    "    \"age\": 20,\n",
    "    \"grade\": \"A\"\n",
    "}\n",
    "print(student)"
   ]
  },
  {
   "cell_type": "markdown",
   "id": "f785f870-77be-4e95-ab89-f9f6dd765087",
   "metadata": {},
   "source": [
    "**dict.get(key, default)** - Safely get the value for a key."
   ]
  },
  {
   "cell_type": "code",
   "execution_count": 5,
   "id": "786e304c-21da-4105-810b-d6548ee6f458",
   "metadata": {},
   "outputs": [
    {
     "name": "stdout",
     "output_type": "stream",
     "text": [
      "Not available\n",
      "Alice\n"
     ]
    }
   ],
   "source": [
    "user = {\"name\": \"Alice\"}\n",
    "print(user.get(\"age\", \"Not available\"))  # Not available\n",
    "user = {\"name\": \"Alice\"}\n",
    "print(user.get(\"name\", \"Not available\"))  "
   ]
  },
  {
   "cell_type": "markdown",
   "id": "6fc21331-46e6-459b-bc24-6afe8fe5f25d",
   "metadata": {},
   "source": [
    "**dict.keys()** - Returns all keys."
   ]
  },
  {
   "cell_type": "code",
   "execution_count": 9,
   "id": "156a4e0c-e48e-45d8-8e37-03d338041ec0",
   "metadata": {},
   "outputs": [
    {
     "name": "stdout",
     "output_type": "stream",
     "text": [
      "dict_keys(['name', 'email'])\n"
     ]
    }
   ],
   "source": [
    "#List all available form fields.\n",
    "form = {\"name\": \"John\", \"email\": \"john@example.com\"}\n",
    "print(form.keys())  # dict_keys(['name', 'email'])"
   ]
  },
  {
   "cell_type": "markdown",
   "id": "caf00b53-5302-4b61-b5ad-457052340078",
   "metadata": {},
   "source": [
    "**dict.values()** - Returns all values."
   ]
  },
  {
   "cell_type": "code",
   "execution_count": 8,
   "id": "8df701ea-dbf8-4804-801b-b6fabe91028a",
   "metadata": {},
   "outputs": [
    {
     "name": "stdout",
     "output_type": "stream",
     "text": [
      "dict_values(['John', 'john@example.com'])\n"
     ]
    }
   ],
   "source": [
    "#Show all submitted values in a form\n",
    "form = {\"name\": \"John\", \"email\": \"john@example.com\"}\n",
    "print(form.values())  # dict_values(['John', 'john@example.com'])"
   ]
  },
  {
   "cell_type": "markdown",
   "id": "0b2c1cc0-e4d7-4558-bb66-2bbd1920c207",
   "metadata": {},
   "source": [
    "**dict.items()**"
   ]
  },
  {
   "cell_type": "code",
   "execution_count": 10,
   "id": "2e9d0a76-cbbb-46e7-96ef-728fdac1b170",
   "metadata": {},
   "outputs": [
    {
     "name": "stdout",
     "output_type": "stream",
     "text": [
      "name: John\n",
      "email: john@example.com\n"
     ]
    }
   ],
   "source": [
    "form = {\"name\": \"John\", \"email\": \"john@example.com\"}\n",
    "for key, value in form.items():\n",
    "    print(f\"{key}: {value}\")\n"
   ]
  },
  {
   "cell_type": "markdown",
   "id": "0af64fe9-2ed7-4c54-a59e-79659a7ae131",
   "metadata": {},
   "source": [
    "**dict.update(other_dict)** -Updates the current dictionary with another."
   ]
  },
  {
   "cell_type": "code",
   "execution_count": 13,
   "id": "55038f09-4e1f-41ee-b0e5-6486f5193567",
   "metadata": {},
   "outputs": [
    {
     "name": "stdout",
     "output_type": "stream",
     "text": [
      "{'name': 'John', 'email': 'john@example.com', 'phone': '1234567890'}\n"
     ]
    }
   ],
   "source": [
    "form = {\"name\": \"John\", \"email\": \"john@example.com\"}\n",
    "form.update({\"phone\": \"1234567890\"})\n",
    "print(form)  # {'name': 'John', 'email': ..., 'phone': '1234567890'}"
   ]
  },
  {
   "cell_type": "markdown",
   "id": "e13c51a1-e0b4-4599-920f-45a8f3c63b7e",
   "metadata": {},
   "source": [
    "**dict.pop(key)** - Removes a key and returns its value."
   ]
  },
  {
   "cell_type": "code",
   "execution_count": 16,
   "id": "b1a83062-c9da-4786-91a6-2b1d294f9b0d",
   "metadata": {},
   "outputs": [
    {
     "name": "stdout",
     "output_type": "stream",
     "text": [
      "abc123\n"
     ]
    }
   ],
   "source": [
    "session = {\"user\": \"admin\", \"token\": \"abc123\"}\n",
    "token = session.pop(\"token\")\n",
    "print(token)  # 'abc123'"
   ]
  },
  {
   "cell_type": "markdown",
   "id": "4a378bf7-c774-4e8f-8963-6f8eb0a7e609",
   "metadata": {},
   "source": [
    "**dict.popitem()** - Removes the last inserted key-value pair."
   ]
  },
  {
   "cell_type": "markdown",
   "id": "99435a2a-bef5-4326-a17c-7e68d6b796ae",
   "metadata": {},
   "source": [
    "activity = {\"login\": \"10:00\", \"upload\": \"10:05\"}\n",
    "activity.popitem()  # Removes upload\n",
    "print(activity)"
   ]
  },
  {
   "cell_type": "markdown",
   "id": "cfad0f5b-e8f5-41a4-bd28-68fc5aeb7e25",
   "metadata": {},
   "source": [
    "**dict.clear()** - Removes all items."
   ]
  },
  {
   "cell_type": "code",
   "execution_count": 24,
   "id": "7bebccc6-38d7-4500-8a89-b96958e3d0b7",
   "metadata": {},
   "outputs": [
    {
     "name": "stdout",
     "output_type": "stream",
     "text": [
      "{}\n"
     ]
    }
   ],
   "source": [
    "cart = {\"apple\": 2, \"banana\": 3}\n",
    "cart.clear()\n",
    "print(cart)  # {}"
   ]
  },
  {
   "cell_type": "markdown",
   "id": "a26e84c7-63c3-4b3c-9260-b1087f65587e",
   "metadata": {},
   "source": [
    "**dict.copy()** - Shallow copy of the dictionary."
   ]
  },
  {
   "cell_type": "code",
   "execution_count": 28,
   "id": "9f33b0c2-b827-402c-985a-11948c0e1489",
   "metadata": {},
   "outputs": [
    {
     "name": "stdout",
     "output_type": "stream",
     "text": [
      "{'theme': 'dark', 'lang': 'EN'}\n"
     ]
    }
   ],
   "source": [
    "config = {\"theme\": \"dark\", \"lang\": \"EN\"}\n",
    "backup = config.copy()\n",
    "print(backup)"
   ]
  },
  {
   "cell_type": "markdown",
   "id": "aeeb6c28-f161-49cc-bfd1-6880506c1a33",
   "metadata": {},
   "source": [
    "**dict.fromkeys(keys, value)** - Creates a new dictionary from keys and a default value."
   ]
  },
  {
   "cell_type": "code",
   "execution_count": 31,
   "id": "96abc83d-0777-4d5e-9f1f-9864674c37d1",
   "metadata": {},
   "outputs": [
    {
     "name": "stdout",
     "output_type": "stream",
     "text": [
      "{'apple': 0, 'banana': 0, 'mango': 0} {'apple': 10, 'banana': 10, 'mango': 10}\n"
     ]
    }
   ],
   "source": [
    "products = [\"apple\", \"banana\", \"mango\"]\n",
    "stock = dict.fromkeys(products, 0)\n",
    "stock1 = dict.fromkeys(products, 10)\n",
    "print(stock,stock1)  # {'apple': 0, 'banana': 0, 'mango': 0}"
   ]
  },
  {
   "cell_type": "markdown",
   "id": "5a7934de-7384-4559-94e4-6c649abee91f",
   "metadata": {},
   "source": [
    "**dict.setdefault(key, default)** - Returns the value for key if present; else sets it to default."
   ]
  },
  {
   "cell_type": "code",
   "execution_count": 34,
   "id": "0847c418-d6ec-4840-8e24-234832889933",
   "metadata": {},
   "outputs": [
    {
     "name": "stdout",
     "output_type": "stream",
     "text": [
      "{'theme': 'light', 'lang': 'EN'}\n"
     ]
    }
   ],
   "source": [
    "settings = {\"theme\": \"light\"}\n",
    "settings.setdefault(\"lang\", \"EN\")\n",
    "print(settings)  # {'theme': 'light', 'lang': 'EN'}"
   ]
  },
  {
   "cell_type": "markdown",
   "id": "7ce689c2-8ec5-44f8-b689-bda0bae87c08",
   "metadata": {},
   "source": [
    "**in keyword** -  Check if a key exists."
   ]
  },
  {
   "cell_type": "code",
   "execution_count": 37,
   "id": "aa450f63-2d43-40e5-bb86-b4c7572cf0a6",
   "metadata": {},
   "outputs": [
    {
     "name": "stdout",
     "output_type": "stream",
     "text": [
      "Access granted\n"
     ]
    }
   ],
   "source": [
    "user_roles = {\"admin\": True}\n",
    "if \"admin\" in user_roles:\n",
    "    print(\"Access granted\")"
   ]
  },
  {
   "cell_type": "markdown",
   "id": "e386cc25-f00a-463a-99f9-efdaa8fdf01b",
   "metadata": {},
   "source": [
    "**Convert Dictionary to set**"
   ]
  },
  {
   "cell_type": "code",
   "execution_count": 38,
   "id": "81172540-a3d4-4a2d-88ef-d44e6c66d827",
   "metadata": {},
   "outputs": [
    {
     "name": "stdout",
     "output_type": "stream",
     "text": [
      "{'b', 'a', 'c'}\n"
     ]
    }
   ],
   "source": [
    "#Set of Keys\n",
    "my_dict = {\"a\": 1, \"b\": 2, \"c\": 3}\n",
    "key_set = set(my_dict)\n",
    "print(key_set)  # {'a', 'b', 'c'}"
   ]
  },
  {
   "cell_type": "code",
   "execution_count": 40,
   "id": "a3f69f3d-f5a3-4431-9edb-deda080d9f06",
   "metadata": {},
   "outputs": [
    {
     "name": "stdout",
     "output_type": "stream",
     "text": [
      "{1, 2, 3}\n"
     ]
    }
   ],
   "source": [
    "#Set of Values\n",
    "value_set = set(my_dict.values())\n",
    "print(value_set)  # {1, 2, 3}"
   ]
  },
  {
   "cell_type": "code",
   "execution_count": 41,
   "id": "20a84170-6b72-40b4-9258-41848a7581e9",
   "metadata": {},
   "outputs": [
    {
     "name": "stdout",
     "output_type": "stream",
     "text": [
      "{('b', 2), ('a', 1), ('c', 3)}\n"
     ]
    }
   ],
   "source": [
    "# Set of Items (tuples)\n",
    "item_set = set(my_dict.items())\n",
    "print(item_set)  # {('a', 1), ('b', 2), ('c', 3)}"
   ]
  },
  {
   "cell_type": "markdown",
   "id": "e0248f36-beed-4ddb-a52e-8625010ea904",
   "metadata": {},
   "source": [
    "**Convert Dictionary to tuple**"
   ]
  },
  {
   "cell_type": "code",
   "execution_count": 44,
   "id": "5a0895b9-d5ac-4123-a751-961ea6a82faa",
   "metadata": {},
   "outputs": [
    {
     "name": "stdout",
     "output_type": "stream",
     "text": [
      "('a', 'b', 'c')\n"
     ]
    }
   ],
   "source": [
    "#Tuple of Keys\n",
    "key_tuple = tuple(my_dict)\n",
    "print(key_tuple)  # ('a', 'b', 'c')"
   ]
  },
  {
   "cell_type": "code",
   "execution_count": 45,
   "id": "7b2b0762-d7a6-4f29-a8d3-f4bb52a8f4c8",
   "metadata": {},
   "outputs": [
    {
     "name": "stdout",
     "output_type": "stream",
     "text": [
      "(1, 2, 3)\n"
     ]
    }
   ],
   "source": [
    "# Tuple of Values\n",
    "value_tuple = tuple(my_dict.values())\n",
    "print(value_tuple)  # (1, 2, 3)"
   ]
  },
  {
   "cell_type": "code",
   "execution_count": 46,
   "id": "1d64ad77-93a0-4c02-80ed-b6c4bd613e4a",
   "metadata": {},
   "outputs": [
    {
     "name": "stdout",
     "output_type": "stream",
     "text": [
      "(('a', 1), ('b', 2), ('c', 3))\n"
     ]
    }
   ],
   "source": [
    "#Tuple of Items\n",
    "item_tuple = tuple(my_dict.items())\n",
    "print(item_tuple)  # (('a', 1), ('b', 2), ('c', 3))"
   ]
  },
  {
   "cell_type": "markdown",
   "id": "298a9af9-9ac8-43c4-99ed-83fb9b8bb3f6",
   "metadata": {},
   "source": [
    "**Convert Dictionary to list**"
   ]
  },
  {
   "cell_type": "code",
   "execution_count": 48,
   "id": "b2e4cf9e-a32e-4b01-8a7d-f9290ff4e47b",
   "metadata": {},
   "outputs": [
    {
     "name": "stdout",
     "output_type": "stream",
     "text": [
      "['a', 'b', 'c']\n"
     ]
    }
   ],
   "source": [
    "#List of Keys\n",
    "key_list = list(my_dict)\n",
    "print(key_list)  # ['a', 'b', 'c']"
   ]
  },
  {
   "cell_type": "code",
   "execution_count": 49,
   "id": "1e0b9a53-5637-470b-beeb-961bcd737f62",
   "metadata": {},
   "outputs": [
    {
     "name": "stdout",
     "output_type": "stream",
     "text": [
      "[1, 2, 3]\n"
     ]
    }
   ],
   "source": [
    "# List of Values\n",
    "value_list = list(my_dict.values())\n",
    "print(value_list)  # [1, 2, 3]"
   ]
  },
  {
   "cell_type": "code",
   "execution_count": 51,
   "id": "1580fe33-991d-4103-a5d7-7554e7c1e679",
   "metadata": {},
   "outputs": [
    {
     "name": "stdout",
     "output_type": "stream",
     "text": [
      "[('a', 1), ('b', 2), ('c', 3)]\n"
     ]
    }
   ],
   "source": [
    "#List of Items\n",
    "item_list = list(my_dict.items())\n",
    "print(item_list)  # [('a', 1), ('b', 2), ('c', 3)]"
   ]
  },
  {
   "cell_type": "code",
   "execution_count": null,
   "id": "1fac0c0a-4f1f-46a4-9141-b8733c42d83a",
   "metadata": {},
   "outputs": [],
   "source": []
  }
 ],
 "metadata": {
  "kernelspec": {
   "display_name": "Python 3 (ipykernel)",
   "language": "python",
   "name": "python3"
  },
  "language_info": {
   "codemirror_mode": {
    "name": "ipython",
    "version": 3
   },
   "file_extension": ".py",
   "mimetype": "text/x-python",
   "name": "python",
   "nbconvert_exporter": "python",
   "pygments_lexer": "ipython3",
   "version": "3.10.11"
  }
 },
 "nbformat": 4,
 "nbformat_minor": 5
}
