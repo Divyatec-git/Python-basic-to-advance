{
 "cells": [
  {
   "cell_type": "markdown",
   "id": "11d5633a-3f2c-422f-a3a6-eb946ba84f24",
   "metadata": {},
   "source": [
    "**List**"
   ]
  },
  {
   "cell_type": "code",
   "execution_count": 4,
   "id": "29e40d91-9fdb-4ce4-80c2-c84e10a42002",
   "metadata": {},
   "outputs": [
    {
     "name": "stdout",
     "output_type": "stream",
     "text": [
      "100\n"
     ]
    }
   ],
   "source": [
    "l1 = [10,20,30,\"40\"]\n",
    "sum = 0\n",
    "for i in l1:\n",
    "    sum += int(i)\n",
    "print(sum)"
   ]
  },
  {
   "cell_type": "markdown",
   "id": "094959ae-3077-4b32-a930-23ea3a7aa58f",
   "metadata": {},
   "source": [
    "**Modification Methods**"
   ]
  },
  {
   "cell_type": "markdown",
   "id": "8c1b2739-66e7-424f-8d7f-61e612ac5d7e",
   "metadata": {},
   "source": [
    "**Append** , **Extend**"
   ]
  },
  {
   "cell_type": "raw",
   "id": "72f55d5a-1b74-48b2-83d3-746e1b7b81be",
   "metadata": {},
   "source": [
    "append() -> Adds one item (even if it's a list).\n",
    "extend() -> Adds each element of the given iterable."
   ]
  },
  {
   "cell_type": "code",
   "execution_count": 20,
   "id": "e09d9527-cd60-43c9-b066-ecd0926f888a",
   "metadata": {},
   "outputs": [
    {
     "name": "stdout",
     "output_type": "stream",
     "text": [
      "['new_movie', ['list_append1', 'list_append2'], ('tup_append1', 'tup_append2'), ['krish', 'kick', '1992'], ['krish', 'kick', '1992'], ('tup1', 'tup2', 'tup3')]\n"
     ]
    }
   ],
   "source": [
    "movie_liked_list=[]\n",
    "\n",
    "movie_liked_list.append(\"new_movie\")\n",
    "movie_liked_list.append([\"list_append1\",\"list_append2\"])\n",
    "movie_liked_list.append((\"tup_append1\",\"tup_append2\"))\n",
    "\n",
    "recomand_movies = [\"krish\",\"kick\",\"1992\"] # list add\n",
    "recomand_movies_1 = (\"tup1\",\"tup2\",\"tup3\") # tuple also add\n",
    "\n",
    "movie_liked_list.extend([recomand_movies])\n",
    "movie_liked_list.extend([recomand_movies,recomand_movies_1])\n",
    "print(movie_liked_list)"
   ]
  },
  {
   "cell_type": "markdown",
   "id": "06abe385-8fa9-44dc-9fd3-f2ae9a3395b7",
   "metadata": {},
   "source": [
    "**insert**"
   ]
  },
  {
   "cell_type": "code",
   "execution_count": 35,
   "id": "110374f6-576f-4497-a32c-f931ffcd792f",
   "metadata": {},
   "outputs": [
    {
     "name": "stdout",
     "output_type": "stream",
     "text": [
      "['A', 'B', 'E', 'c', 'D']\n"
     ]
    }
   ],
   "source": [
    "#Write a Python program to insert an element at a negative index position in a list.\n",
    "\n",
    "list = [\"A\",\"B\",\"c\",\"D\"]\n",
    "list.insert(-2,\"E\") # before index insert element\n",
    "print(list)\n",
    "    "
   ]
  },
  {
   "cell_type": "markdown",
   "id": "ea07903b-5a65-4441-969a-9bcfd0c80e47",
   "metadata": {},
   "source": [
    "**+ and +=**"
   ]
  },
  {
   "cell_type": "code",
   "execution_count": 50,
   "id": "bcb582c3-5a4f-4156-8b10-a64176dff417",
   "metadata": {},
   "outputs": [
    {
     "name": "stdout",
     "output_type": "stream",
     "text": [
      "[1, 2, 3, 4, 5, 6]\n",
      "[4, 5, 6, 1, 2, 3]\n",
      "[1, 2, 3, 1, 2, 3, 1, 2, 3, 1, 2, 3, 1, 2, 3]\n"
     ]
    }
   ],
   "source": [
    "list1 = [1,2,3]\n",
    "list2 = [4,5,6]\n",
    "print(list1 + list2)\n",
    "print(list2  + list1)\n",
    "print(list1*5) # repeat list add "
   ]
  },
  {
   "cell_type": "markdown",
   "id": "d8e48dcc-11fd-4a4e-9686-26380c66e901",
   "metadata": {},
   "source": [
    "**remove**"
   ]
  },
  {
   "cell_type": "code",
   "execution_count": 52,
   "id": "b59ee371-1fb0-4c5d-9c2b-e2181c3d80e3",
   "metadata": {},
   "outputs": [
    {
     "name": "stdout",
     "output_type": "stream",
     "text": [
      "[1, 2, 'red', 'blue', '4', 90, 'black']\n"
     ]
    }
   ],
   "source": [
    "# python program for remove frist \"black\" color from list\n",
    "\n",
    "list = [1,2,\"red\",\"black\",\"blue\",\"4\",90,\"black\"]\n",
    "list.remove(\"black\")\n",
    "print(list)"
   ]
  },
  {
   "cell_type": "markdown",
   "id": "b69e48c6-3e9d-4683-819e-3855bd796d4a",
   "metadata": {},
   "source": [
    "**pop** -| return element"
   ]
  },
  {
   "cell_type": "code",
   "execution_count": 8,
   "id": "576c75a3-0b10-43da-ab17-ad06c225c5fe",
   "metadata": {},
   "outputs": [
    {
     "name": "stdout",
     "output_type": "stream",
     "text": [
      "[90, 9, 45]\n"
     ]
    }
   ],
   "source": [
    "list = [90,9,45,91] \n",
    "# if i put value 09 thne error [90,09,45,91] \n",
    "\"\"\" In Python, numbers can't have leading zeros (like 09) unless you are \n",
    "defining an octal number (base 8). Octal numbers must use the prefix 0o.\"\"\"\n",
    "\n",
    "list.pop() # remove -1 last index from list\n",
    "print(list)"
   ]
  },
  {
   "cell_type": "markdown",
   "id": "f2e2d360-cd08-4de9-a874-00ea9b11f04a",
   "metadata": {},
   "source": [
    "**clear**"
   ]
  },
  {
   "cell_type": "code",
   "execution_count": 9,
   "id": "3ec2eb66-ff55-4d23-bc86-d16788335adc",
   "metadata": {},
   "outputs": [
    {
     "name": "stdout",
     "output_type": "stream",
     "text": [
      "[]\n"
     ]
    }
   ],
   "source": [
    "list = [9,98,23,12]\n",
    "list.clear()\n",
    "print(list)"
   ]
  },
  {
   "cell_type": "markdown",
   "id": "bdae1fd8-0364-42c0-9797-d3ff20ccc80c",
   "metadata": {},
   "source": [
    "**del list[index] or del list[start:stop]**"
   ]
  },
  {
   "cell_type": "code",
   "execution_count": null,
   "id": "b371504a-67ec-47c4-95fc-3d9205edb64a",
   "metadata": {},
   "outputs": [],
   "source": [
    "list = [10,20,30,40,50,60,70,80,90]\n",
    "print(list)\n",
    "del list[2]\n",
    "print(list,\"remove only 2nd index\")\n",
    "del list [3:6]\n",
    "print(list,'index 3,4,5 remomve start from 3 and end 6 but not remove 6th element')"
   ]
  },
  {
   "cell_type": "markdown",
   "id": "786c2433-d79a-4d74-87ec-f13cdf483318",
   "metadata": {},
   "source": [
    "**Search/Info Methods**"
   ]
  },
  {
   "cell_type": "markdown",
   "id": "923830fe-6496-440f-80d8-47dd89e3386e",
   "metadata": {},
   "source": [
    "**index(x)** - Returns the index of the first occurrence of x."
   ]
  },
  {
   "cell_type": "code",
   "execution_count": 23,
   "id": "f8e1f9f1-5721-4970-af29-2b747beb1ca6",
   "metadata": {},
   "outputs": [
    {
     "name": "stdin",
     "output_type": "stream",
     "text": [
      "Enter food name and check is it avaiable or not banana\n"
     ]
    },
    {
     "name": "stdout",
     "output_type": "stream",
     "text": [
      "Yes this food avaiable and it number in list 1\n"
     ]
    }
   ],
   "source": [
    "food = [\"apple\", \"banana\", \"milk\", \"bread\", \"banana\", \"eggs\"]\n",
    "user_input = input(\"Enter food name and check is it avaiable or not\")\n",
    "if user_input.lower() in food: \n",
    "    check_avail = food.index(user_input.lower())\n",
    "    if check_avail:\n",
    "        print(f\"Yes this food avaiable and it number in list {check_avail}\") # f\"string {variable}\" it is temeplete literal\n",
    "else:\n",
    "    print(\"Not found\")\n"
   ]
  },
  {
   "cell_type": "markdown",
   "id": "fbd8ae94-32cc-411f-a3f0-8ad9800befe7",
   "metadata": {},
   "source": [
    "**count()** - Returns the number of times x appears in the list."
   ]
  },
  {
   "cell_type": "code",
   "execution_count": 26,
   "id": "afc6d4a8-9932-4e94-aa6f-b806e3019cc7",
   "metadata": {},
   "outputs": [
    {
     "name": "stdout",
     "output_type": "stream",
     "text": [
      "count is 2\n"
     ]
    }
   ],
   "source": [
    "orders = [\n",
    "    \"burger\", \"pizza\", \"salad\", \"burger\", \"fries\", \n",
    "    \"pizza\", \"pizza\", \"burger\", \"salad\", \"fries\"\n",
    "]\n",
    "order_count = orders.count(\"salad\")\n",
    "print(\"count is\", order_count)"
   ]
  },
  {
   "cell_type": "markdown",
   "id": "c9c7aa50-afe4-4ce9-9be1-48caa56c4838",
   "metadata": {},
   "source": [
    "**Access by Index**"
   ]
  },
  {
   "cell_type": "code",
   "execution_count": 31,
   "id": "54dfcb9b-b56c-4e09-9fa1-fe67c2ca8757",
   "metadata": {},
   "outputs": [
    {
     "name": "stdout",
     "output_type": "stream",
     "text": [
      "[10, 20, 30]\n",
      "[20, 30, 40, 50]\n"
     ]
    }
   ],
   "source": [
    "list = [10,20,30,40,50]\n",
    "#index =[10 -> 0,20 -> 1,30 -> 2, 40 ->3,50 -> 4]\n",
    "print(list[:3]) # start from default 0th index\n",
    "print(list[1:]) #end from  len(list)"
   ]
  },
  {
   "cell_type": "code",
   "execution_count": null,
   "id": "3bc5df87-ddeb-4ada-ad6c-8586328f56ed",
   "metadata": {},
   "outputs": [],
   "source": []
  }
 ],
 "metadata": {
  "kernelspec": {
   "display_name": "Python 3 (ipykernel)",
   "language": "python",
   "name": "python3"
  },
  "language_info": {
   "codemirror_mode": {
    "name": "ipython",
    "version": 3
   },
   "file_extension": ".py",
   "mimetype": "text/x-python",
   "name": "python",
   "nbconvert_exporter": "python",
   "pygments_lexer": "ipython3",
   "version": "3.12.9"
  }
 },
 "nbformat": 4,
 "nbformat_minor": 5
}
