{
 "cells": [
  {
   "cell_type": "markdown",
   "id": "11d5633a-3f2c-422f-a3a6-eb946ba84f24",
   "metadata": {},
   "source": [
    "**List**"
   ]
  },
  {
   "cell_type": "code",
   "execution_count": 121,
   "id": "29e40d91-9fdb-4ce4-80c2-c84e10a42002",
   "metadata": {},
   "outputs": [
    {
     "name": "stdout",
     "output_type": "stream",
     "text": [
      "100\n"
     ]
    }
   ],
   "source": [
    "l1 = [10,20,30,\"40\"]\n",
    "sum_data = 0\n",
    "for i in l1:\n",
    "    sum_data += int(i)\n",
    "print(sum_data)"
   ]
  },
  {
   "cell_type": "markdown",
   "id": "094959ae-3077-4b32-a930-23ea3a7aa58f",
   "metadata": {},
   "source": [
    "**Modification Methods**"
   ]
  },
  {
   "cell_type": "markdown",
   "id": "8c1b2739-66e7-424f-8d7f-61e612ac5d7e",
   "metadata": {},
   "source": [
    "**Append** , **Extend**"
   ]
  },
  {
   "cell_type": "raw",
   "id": "72f55d5a-1b74-48b2-83d3-746e1b7b81be",
   "metadata": {},
   "source": [
    "append() -> Adds one item (even if it's a list).\n",
    "extend() -> Adds each element of the given iterable."
   ]
  },
  {
   "cell_type": "code",
   "execution_count": 102,
   "id": "e09d9527-cd60-43c9-b066-ecd0926f888a",
   "metadata": {},
   "outputs": [
    {
     "name": "stdout",
     "output_type": "stream",
     "text": [
      "['new_movie', ['list_append1', 'list_append2'], ('tup_append1', 'tup_append2'), ['krish', 'kick', '1992'], ['krish', 'kick', '1992'], ('tup1', 'tup2', 'tup3')]\n"
     ]
    }
   ],
   "source": [
    "movie_liked_list=[]\n",
    "\n",
    "movie_liked_list.append(\"new_movie\")\n",
    "movie_liked_list.append([\"list_append1\",\"list_append2\"])\n",
    "movie_liked_list.append((\"tup_append1\",\"tup_append2\"))\n",
    "\n",
    "recomand_movies = [\"krish\",\"kick\",\"1992\"] # list add\n",
    "recomand_movies_1 = (\"tup1\",\"tup2\",\"tup3\") # tuple also add\n",
    "\n",
    "movie_liked_list.extend([recomand_movies])\n",
    "movie_liked_list.extend([recomand_movies,recomand_movies_1])\n",
    "print(movie_liked_list)"
   ]
  },
  {
   "cell_type": "markdown",
   "id": "06abe385-8fa9-44dc-9fd3-f2ae9a3395b7",
   "metadata": {},
   "source": [
    "**insert**"
   ]
  },
  {
   "cell_type": "code",
   "execution_count": 103,
   "id": "110374f6-576f-4497-a32c-f931ffcd792f",
   "metadata": {},
   "outputs": [
    {
     "name": "stdout",
     "output_type": "stream",
     "text": [
      "['A', 'B', 'E', 'c', 'D']\n"
     ]
    }
   ],
   "source": [
    "#Write a Python program to insert an element at a negative index position in a list.\n",
    "\n",
    "sample_list = [\"A\",\"B\",\"c\",\"D\"]\n",
    "sample_list.insert(-2,\"E\") # before index insert element\n",
    "print(sample_list)\n",
    "    "
   ]
  },
  {
   "cell_type": "markdown",
   "id": "ea07903b-5a65-4441-969a-9bcfd0c80e47",
   "metadata": {},
   "source": [
    "**+ and +=**"
   ]
  },
  {
   "cell_type": "code",
   "execution_count": 104,
   "id": "bcb582c3-5a4f-4156-8b10-a64176dff417",
   "metadata": {},
   "outputs": [
    {
     "name": "stdout",
     "output_type": "stream",
     "text": [
      "[1, 2, 3, 4, 5, 6]\n",
      "[4, 5, 6, 1, 2, 3]\n",
      "[1, 2, 3, 1, 2, 3, 1, 2, 3, 1, 2, 3, 1, 2, 3]\n"
     ]
    }
   ],
   "source": [
    "list1 = [1,2,3]\n",
    "list2 = [4,5,6]\n",
    "print(list1 + list2)\n",
    "print(list2  + list1)\n",
    "print(list1*5) # repeat list add "
   ]
  },
  {
   "cell_type": "markdown",
   "id": "d8e48dcc-11fd-4a4e-9686-26380c66e901",
   "metadata": {},
   "source": [
    "**remove**"
   ]
  },
  {
   "cell_type": "code",
   "execution_count": 105,
   "id": "b59ee371-1fb0-4c5d-9c2b-e2181c3d80e3",
   "metadata": {},
   "outputs": [
    {
     "name": "stdout",
     "output_type": "stream",
     "text": [
      "[1, 2, 'red', 'blue', '4', 90, 'black']\n"
     ]
    }
   ],
   "source": [
    "# python program for remove frist \"black\" color from list\n",
    "\n",
    "sample_list = [1,2,\"red\",\"black\",\"blue\",\"4\",90,\"black\"]\n",
    "sample_list.remove(\"black\")\n",
    "print(sample_list)"
   ]
  },
  {
   "cell_type": "markdown",
   "id": "b69e48c6-3e9d-4683-819e-3855bd796d4a",
   "metadata": {},
   "source": [
    "**pop** -| return element"
   ]
  },
  {
   "cell_type": "code",
   "execution_count": 106,
   "id": "576c75a3-0b10-43da-ab17-ad06c225c5fe",
   "metadata": {},
   "outputs": [
    {
     "name": "stdout",
     "output_type": "stream",
     "text": [
      "[90, 9, 45]\n"
     ]
    }
   ],
   "source": [
    "sample_list = [90,9,45,91] \n",
    "# if i put value 09 thne error [90,09,45,91] \n",
    "\"\"\" In Python, numbers can't have leading zeros (like 09) unless you are \n",
    "defining an octal number (base 8). Octal numbers must use the prefix 0o.\"\"\"\n",
    "\n",
    "sample_list.pop() # remove -1 last index from list\n",
    "print(sample_list)"
   ]
  },
  {
   "cell_type": "markdown",
   "id": "f2e2d360-cd08-4de9-a874-00ea9b11f04a",
   "metadata": {},
   "source": [
    "**clear**"
   ]
  },
  {
   "cell_type": "code",
   "execution_count": 107,
   "id": "3ec2eb66-ff55-4d23-bc86-d16788335adc",
   "metadata": {},
   "outputs": [
    {
     "name": "stdout",
     "output_type": "stream",
     "text": [
      "[]\n"
     ]
    }
   ],
   "source": [
    "sample_list = [9,98,23,12]\n",
    "sample_list.clear()\n",
    "print(sample_list)"
   ]
  },
  {
   "cell_type": "markdown",
   "id": "bdae1fd8-0364-42c0-9797-d3ff20ccc80c",
   "metadata": {},
   "source": [
    "**del list[index] or del list[start:stop]**"
   ]
  },
  {
   "cell_type": "code",
   "execution_count": 108,
   "id": "b371504a-67ec-47c4-95fc-3d9205edb64a",
   "metadata": {},
   "outputs": [
    {
     "name": "stdout",
     "output_type": "stream",
     "text": [
      "[10, 20, 30, 40, 50, 60, 70, 80, 90]\n",
      "[10, 20, 40, 50, 60, 70, 80, 90] remove only 2nd index\n",
      "[10, 20, 40, 80, 90] index 3,4,5 remomve start from 3 and end 6 but not remove 6th element\n"
     ]
    }
   ],
   "source": [
    "sample_list = [10,20,30,40,50,60,70,80,90]\n",
    "print(sample_list)\n",
    "del sample_list[2]\n",
    "print(sample_list,\"remove only 2nd index\")\n",
    "del sample_list [3:6]\n",
    "print(sample_list,'index 3,4,5 remomve start from 3 and end 6 but not remove 6th element')"
   ]
  },
  {
   "cell_type": "markdown",
   "id": "786c2433-d79a-4d74-87ec-f13cdf483318",
   "metadata": {},
   "source": [
    "**Search/Info Methods**"
   ]
  },
  {
   "cell_type": "markdown",
   "id": "923830fe-6496-440f-80d8-47dd89e3386e",
   "metadata": {},
   "source": [
    "**index(x)** - Returns the index of the first occurrence of x."
   ]
  },
  {
   "cell_type": "code",
   "execution_count": 109,
   "id": "f8e1f9f1-5721-4970-af29-2b747beb1ca6",
   "metadata": {},
   "outputs": [
    {
     "name": "stdin",
     "output_type": "stream",
     "text": [
      "Enter food name and check is it avaiable or not banana\n"
     ]
    },
    {
     "name": "stdout",
     "output_type": "stream",
     "text": [
      "Yes this food avaiable and it number in list 1\n"
     ]
    }
   ],
   "source": [
    "food = [\"apple\", \"banana\", \"milk\", \"bread\", \"banana\", \"eggs\"]\n",
    "user_input = input(\"Enter food name and check is it avaiable or not\")\n",
    "if user_input.lower() in food: \n",
    "    check_avail = food.index(user_input.lower())\n",
    "    if check_avail:\n",
    "        print(f\"Yes this food avaiable and it number in list {check_avail}\") # f\"string {variable}\" it is temeplete literal\n",
    "else:\n",
    "    print(\"Not found\")\n"
   ]
  },
  {
   "cell_type": "markdown",
   "id": "fbd8ae94-32cc-411f-a3f0-8ad9800befe7",
   "metadata": {},
   "source": [
    "**count()** - Returns the number of times x appears in the list."
   ]
  },
  {
   "cell_type": "code",
   "execution_count": 110,
   "id": "afc6d4a8-9932-4e94-aa6f-b806e3019cc7",
   "metadata": {},
   "outputs": [
    {
     "name": "stdout",
     "output_type": "stream",
     "text": [
      "count is 2\n"
     ]
    }
   ],
   "source": [
    "orders = [\n",
    "    \"burger\", \"pizza\", \"salad\", \"burger\", \"fries\", \n",
    "    \"pizza\", \"pizza\", \"burger\", \"salad\", \"fries\"\n",
    "]\n",
    "order_count = orders.count(\"salad\")\n",
    "print(\"count is\", order_count)"
   ]
  },
  {
   "cell_type": "markdown",
   "id": "c9c7aa50-afe4-4ce9-9be1-48caa56c4838",
   "metadata": {},
   "source": [
    "**Access by Index**"
   ]
  },
  {
   "cell_type": "code",
   "execution_count": 111,
   "id": "54dfcb9b-b56c-4e09-9fa1-fe67c2ca8757",
   "metadata": {},
   "outputs": [
    {
     "name": "stdout",
     "output_type": "stream",
     "text": [
      "[10, 20, 30]\n",
      "[20, 30, 40, 50]\n"
     ]
    }
   ],
   "source": [
    "sample_list = [10,20,30,40,50]\n",
    "#index =[10 -> 0,20 -> 1,30 -> 2, 40 ->3,50 -> 4]\n",
    "print(sample_list[:3]) # start from default 0th index\n",
    "print(sample_list[1:]) #end from  len(list)"
   ]
  },
  {
   "cell_type": "code",
   "execution_count": 112,
   "id": "3bc5df87-ddeb-4ada-ad6c-8586328f56ed",
   "metadata": {},
   "outputs": [
    {
     "name": "stdout",
     "output_type": "stream",
     "text": [
      "[30, 40]\n"
     ]
    }
   ],
   "source": [
    "#index =[10 -> -5,20 -> -4,30 -> -3, 40 ->-2,50 -> -1]\n",
    "print(sample_list[-3:-1])"
   ]
  },
  {
   "cell_type": "code",
   "execution_count": 113,
   "id": "6f68913c-3101-4643-b5e4-bec98113d452",
   "metadata": {},
   "outputs": [
    {
     "name": "stdout",
     "output_type": "stream",
     "text": [
      "[10, 20, 30, 40]\n",
      "[30, 40, 50]\n"
     ]
    }
   ],
   "source": [
    "#index =[10 -> -5,20 -> -4,30 -> -3, 40 ->-2,50 -> -1]\n",
    "print(sample_list[:-1])\n",
    "print(sample_list[-3:])"
   ]
  },
  {
   "cell_type": "markdown",
   "id": "a6299f5c-de04-492e-b088-995982c0d501",
   "metadata": {},
   "source": [
    "**list[start:stop:step]**"
   ]
  },
  {
   "cell_type": "raw",
   "id": "70cddf69-d74a-437d-9644-397e10f57810",
   "metadata": {},
   "source": [
    "The :: is part of extended slice syntax:\n",
    "start → where to begin (default: 0)\n",
    "stop → where to end (default: end of list)\n",
    "step → how much to jump (default: 1)\n",
    ":step:"
   ]
  },
  {
   "cell_type": "code",
   "execution_count": 114,
   "id": "80b3b445-04d7-434a-9f2c-902d5e1e525f",
   "metadata": {},
   "outputs": [
    {
     "name": "stdout",
     "output_type": "stream",
     "text": [
      "[20]\n",
      "[50, 40, 30]\n",
      "[50, 40]\n",
      "[50, 30, 10]\n"
     ]
    }
   ],
   "source": [
    "print(sample_list[1:2:4])\n",
    "print(sample_list[:1:-1])\n",
    "print(sample_list[:2:-1])\n",
    "print(sample_list[::-2])\n"
   ]
  },
  {
   "cell_type": "markdown",
   "id": "13d20839-20ed-4e81-8189-cd2c2b5629a8",
   "metadata": {},
   "source": [
    "**len(lst)**"
   ]
  },
  {
   "cell_type": "code",
   "execution_count": 115,
   "id": "c72544e6-7d14-46b9-9885-209b3d66c456",
   "metadata": {},
   "outputs": [
    {
     "name": "stdout",
     "output_type": "stream",
     "text": [
      "5\n"
     ]
    }
   ],
   "source": [
    "print(len(sample_list))"
   ]
  },
  {
   "cell_type": "markdown",
   "id": "7772be90-1bdb-4730-b0fd-0d7ab97b7daf",
   "metadata": {},
   "source": [
    "**sum(lst)** - Returns the sum of all numeric elements."
   ]
  },
  {
   "cell_type": "code",
   "execution_count": 125,
   "id": "bd47a0d0-f95d-44f4-aa3c-f99ede50af4b",
   "metadata": {},
   "outputs": [
    {
     "name": "stdout",
     "output_type": "stream",
     "text": [
      "150\n"
     ]
    }
   ],
   "source": [
    "list1 = [10,20,30,40,50]\n",
    "print(sum(list1))"
   ]
  },
  {
   "cell_type": "markdown",
   "id": "a5f9d953-6b52-4541-9a48-cfcd2a1e3842",
   "metadata": {},
   "source": [
    "**min(lst) / max(lst)** - Returns the smallest / largest element."
   ]
  },
  {
   "cell_type": "code",
   "execution_count": 118,
   "id": "f1970cb9-d0da-4c64-b76d-98b0dbebbcaf",
   "metadata": {},
   "outputs": [
    {
     "name": "stdout",
     "output_type": "stream",
     "text": [
      "1\n",
      "4\n"
     ]
    }
   ],
   "source": [
    "sample_list = [1,2,3,4]\n",
    "# sample_list = ['Abc',\"UHy\",\"12\",\"Jut\"] # min - 12 ,max - UHy  (capitallatter will be max)\n",
    "# sample_list = [\"abcd\",12,'jasas',972] # error - # if we put str and it both in one list then min , max throw error\n",
    "print(min(sample_list))\n",
    "print(max(sample_list))"
   ]
  },
  {
   "cell_type": "markdown",
   "id": "101219fc-1e8e-42a8-a3d3-07814173b6f6",
   "metadata": {},
   "source": [
    "**sorted(lst)** - Returns a **new sorted list** (doesn't modify original)."
   ]
  },
  {
   "cell_type": "code",
   "execution_count": 82,
   "id": "f0d4363b-4710-4626-bf57-c416a48fc7d6",
   "metadata": {},
   "outputs": [
    {
     "name": "stdout",
     "output_type": "stream",
     "text": [
      "[90, 56, 10, 45, 9, 80] before sort\n",
      "[9, 10, 45, 56, 80, 90] After sort\n"
     ]
    }
   ],
   "source": [
    "list1  = [90,56,10,45,9,80]\n",
    "new_list = sorted(list1)\n",
    "print(list1,\"before sort\")\n",
    "print(new_list,\"After sort\")"
   ]
  },
  {
   "cell_type": "markdown",
   "id": "0e736fab-cad9-4834-969e-c0a7cdf5e560",
   "metadata": {},
   "source": [
    "**list(iterable)** - Converts an iterable (e.g. string, tuple) to a list."
   ]
  },
  {
   "cell_type": "code",
   "execution_count": 127,
   "id": "a7a605f2-e90a-445d-9cf0-c3910edbe755",
   "metadata": {},
   "outputs": [
    {
     "name": "stdout",
     "output_type": "stream",
     "text": [
      "(1, 2, 9, 3)\n",
      "[1, 2, 9, 3]\n"
     ]
    }
   ],
   "source": [
    "tup = (1,2,9,3)\n",
    "new_list = list(tup)\n",
    "print(tup)\n",
    "print(new_list)"
   ]
  },
  {
   "cell_type": "markdown",
   "id": "567552ce-1a21-492a-a791-d632a4267e18",
   "metadata": {},
   "source": [
    "**enumerate()**"
   ]
  },
  {
   "cell_type": "markdown",
   "id": "546f7ea7-a2ce-4ca1-aa51-b6219dc5252c",
   "metadata": {},
   "source": [
    "function adds a counter (index) to an iterable like a list, tuple, or string — and returns it as an enumerate object.\n",
    "It's often used in loops when you need both the index and the value.\n",
    "**iterable**: The list (or any iterable) you want to loop over.\n",
    "\n",
    "**start** : **Optional**. The index you want to start counting from (**default is 0**)."
   ]
  },
  {
   "cell_type": "code",
   "execution_count": 128,
   "id": "5c90f4bb-c967-4c49-95ff-989de17a731d",
   "metadata": {},
   "outputs": [
    {
     "name": "stdout",
     "output_type": "stream",
     "text": [
      "0 apple\n",
      "1 banana\n",
      "2 cherry\n"
     ]
    }
   ],
   "source": [
    "fruits = [\"apple\", \"banana\", \"cherry\"]\n",
    "for index, fruit in enumerate(fruits):\n",
    "    print(index, fruit)\n"
   ]
  },
  {
   "cell_type": "markdown",
   "id": "a9f3abd9-27a9-429d-af58-c45af6c860fc",
   "metadata": {},
   "source": [
    "fruits = [\"apple\", \"banana\", \"cherry\"]\n",
    "\n",
    "for index, fruit in enumerate(fruits,start=1):\n",
    "    print(index, fruit)\n"
   ]
  },
  {
   "cell_type": "markdown",
   "id": "a34111e7-0935-4797-9b3a-3c5acf55501f",
   "metadata": {},
   "source": [
    "**zip(list1, list2)** - Combines elements of two (or more) lists into tuples.\n",
    "creating pairs (or tuples) of corresponding items. <br>\n",
    "**Think of it as zipping up two lists into one — like a zipper!**"
   ]
  },
  {
   "cell_type": "code",
   "execution_count": 135,
   "id": "e87b018f-ff2d-4512-a6b7-178f4dee2059",
   "metadata": {},
   "outputs": [
    {
     "name": "stdout",
     "output_type": "stream",
     "text": [
      "Alice scored 85\n",
      "Bob scored 92\n",
      "Charlie scored 78\n",
      "**************************************************\n",
      "Alice scored 85 and roll no is 100\n",
      "Bob scored 92 and roll no is 102\n",
      "Charlie scored 78 and roll no is 109\n"
     ]
    }
   ],
   "source": [
    "names = [\"Alice\", \"Bob\", \"Charlie\"]\n",
    "scores = [85, 92, 78]\n",
    "roll_no = [100, 102,109]\n",
    "\n",
    "\n",
    "zipped_for_two = zip(names, scores)\n",
    "zipped_for_three = zip(names, scores,roll_no)\n",
    "\n",
    "\n",
    "for name, score in zipped_for_two:\n",
    "    print(f\"{name} scored {score}\")\n",
    "    \n",
    "print('*'*50)\n",
    "\n",
    "for name, score,rollNo in zipped_for_three:\n",
    "    print(f\"{name} scored {score} and roll no is {rollNo}\")"
   ]
  },
  {
   "cell_type": "markdown",
   "id": "633f3993-eb8f-4da8-90e1-fbbfb4226cdb",
   "metadata": {},
   "source": [
    "**Using( + Concatenation)**"
   ]
  },
  {
   "cell_type": "code",
   "execution_count": 141,
   "id": "eb8b70e0-364d-456f-9cec-245b6be80cb0",
   "metadata": {},
   "outputs": [
    {
     "name": "stdout",
     "output_type": "stream",
     "text": [
      "[1, 2, 3, 9, 8, 7]\n"
     ]
    }
   ],
   "source": [
    "list1 = [1,2,3]\n",
    "list2 = [9,8,7]\n",
    "print(list1 + list2)"
   ]
  },
  {
   "cell_type": "markdown",
   "id": "1c0fd5f0-5a31-4139-9ec8-7d4e2d2feef2",
   "metadata": {},
   "source": [
    "**Using * Unpacking**"
   ]
  },
  {
   "cell_type": "code",
   "execution_count": 149,
   "id": "3411f19a-45a8-4a89-83d3-f8fa64365771",
   "metadata": {},
   "outputs": [
    {
     "name": "stdout",
     "output_type": "stream",
     "text": [
      "3 4\n",
      "[2, 3]\n",
      "[1, 2, 3, 3, 4, 5, 6]\n"
     ]
    }
   ],
   "source": [
    "a = [1, 2,3]\n",
    "b = [3, 4]\n",
    "c = [5, 6]\n",
    "x,y = b\n",
    "w, *z = a\n",
    "print(x,y)\n",
    "print(z)\n",
    "combined = [*a, *b, *c]\n",
    "print(combined)\n"
   ]
  },
  {
   "cell_type": "markdown",
   "id": "7ae6a069-cbd0-4d64-ad1d-c00950e6aa31",
   "metadata": {},
   "source": [
    "**itertools.chain()** - **(Best for big lists)**"
   ]
  },
  {
   "cell_type": "code",
   "execution_count": 151,
   "id": "2066bc3d-9e7e-4ef8-8282-80e3bd614959",
   "metadata": {},
   "outputs": [
    {
     "name": "stdout",
     "output_type": "stream",
     "text": [
      "['logA', 'logB', 'logC', 'logD']\n"
     ]
    }
   ],
   "source": [
    "from itertools import chain\n",
    "\n",
    "log1 = [\"logA\", \"logB\"]\n",
    "log2 = [\"logC\"]\n",
    "log3 = [\"logD\"]\n",
    "\n",
    "all_logs = list(chain(log1, log2, log3))\n",
    "print(all_logs)\n"
   ]
  },
  {
   "cell_type": "markdown",
   "id": "a5c8aab0-7db1-4b4b-9bd3-1bb6a397e269",
   "metadata": {},
   "source": [
    "**Why use itertools?**\n",
    "Great for data science, AI, automation, and web scraping\n",
    "\n",
    "Works with huge datasets without using much memory\n",
    "\n",
    "Avoids writing manual loop logic"
   ]
  },
  {
   "cell_type": "code",
   "execution_count": null,
   "id": "47e5c8df-0592-4cb9-b5d1-551a1d3e043e",
   "metadata": {},
   "outputs": [],
   "source": []
  }
 ],
 "metadata": {
  "kernelspec": {
   "display_name": "Python 3 (ipykernel)",
   "language": "python",
   "name": "python3"
  },
  "language_info": {
   "codemirror_mode": {
    "name": "ipython",
    "version": 3
   },
   "file_extension": ".py",
   "mimetype": "text/x-python",
   "name": "python",
   "nbconvert_exporter": "python",
   "pygments_lexer": "ipython3",
   "version": "3.12.9"
  }
 },
 "nbformat": 4,
 "nbformat_minor": 5
}
