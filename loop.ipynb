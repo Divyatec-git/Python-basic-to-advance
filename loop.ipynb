{
 "cells": [
  {
   "cell_type": "code",
   "execution_count": 5,
   "id": "83d46c8b-4a63-414a-b9e8-7d4d52c9fe15",
   "metadata": {},
   "outputs": [
    {
     "name": "stdout",
     "output_type": "stream",
     "text": [
      "1 values\n",
      "2 values\n",
      "3 values\n",
      "4 values\n"
     ]
    }
   ],
   "source": [
    "my_list = [1,2,3,4]\n",
    "for x in my_list:\n",
    "    print(x,\"values\")"
   ]
  },
  {
   "cell_type": "code",
   "execution_count": 10,
   "id": "d6df267d-2334-4e41-8cb6-df4b06004b56",
   "metadata": {},
   "outputs": [
    {
     "name": "stdout",
     "output_type": "stream",
     "text": [
      "0\n",
      "1\n",
      "2\n",
      "3\n",
      "----------\n",
      "1\n",
      "2\n",
      "3\n",
      "4\n",
      "----------\n",
      "4\n",
      "6\n",
      "----------\n"
     ]
    }
   ],
   "source": [
    "for i in range(4):\n",
    "    print(i)\n",
    "print('-'*10)\n",
    "for i in range(1,5):\n",
    "    print(i)\n",
    "print('-'*10)\n",
    "for i in range(4, 8, 2):\n",
    "    print(i)\n",
    "print('-'*10)\n"
   ]
  },
  {
   "cell_type": "code",
   "execution_count": null,
   "id": "5c98f89a-efde-447e-a08e-acc2f66fbb9c",
   "metadata": {},
   "outputs": [],
   "source": []
  }
 ],
 "metadata": {
  "kernelspec": {
   "display_name": "Python 3 (ipykernel)",
   "language": "python",
   "name": "python3"
  },
  "language_info": {
   "codemirror_mode": {
    "name": "ipython",
    "version": 3
   },
   "file_extension": ".py",
   "mimetype": "text/x-python",
   "name": "python",
   "nbconvert_exporter": "python",
   "pygments_lexer": "ipython3",
   "version": "3.12.9"
  }
 },
 "nbformat": 4,
 "nbformat_minor": 5
}
