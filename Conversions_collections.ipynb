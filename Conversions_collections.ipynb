{
 "cells": [
  {
   "cell_type": "code",
   "execution_count": null,
   "id": "811b825c-276c-4554-b813-80b354234170",
   "metadata": {
    "jupyter": {
     "source_hidden": true
    }
   },
   "outputs": [],
   "source": [
    "List ↔ Tuple"
   ]
  },
  {
   "cell_type": "code",
   "execution_count": 4,
   "id": "00927c94-9462-4e40-a235-2e6d67ac7074",
   "metadata": {},
   "outputs": [
    {
     "name": "stdout",
     "output_type": "stream",
     "text": [
      "(1, 2, 3)\n",
      "[1, 2, 3]\n"
     ]
    }
   ],
   "source": [
    "my_list = [1, 2, 3]\n",
    "my_tuple = tuple(my_list) # List → Tuple\n",
    "print(my_tuple)\n",
    "my_list2 = list(my_tuple) # Tuple → List\n",
    "print(my_list)"
   ]
  },
  {
   "cell_type": "code",
   "execution_count": null,
   "id": "69a66b90-e430-4c66-80a6-0531e8de0018",
   "metadata": {},
   "outputs": [],
   "source": [
    "List ↔ Set"
   ]
  },
  {
   "cell_type": "code",
   "execution_count": 6,
   "id": "7dd6b706-cd18-42cb-8e0b-7d68e075cf3a",
   "metadata": {},
   "outputs": [
    {
     "name": "stdout",
     "output_type": "stream",
     "text": [
      "{1, 2, 3}\n",
      "[1, 2, 3]\n"
     ]
    }
   ],
   "source": [
    "my_list = [1, 2, 2, 3] # default list\n",
    "my_set = set(my_list) # List → Set (removes duplicates)\n",
    "print(my_set)\n",
    "my_list2 = list(my_set) # Set → List\n",
    "print(my_list2)"
   ]
  },
  {
   "cell_type": "code",
   "execution_count": null,
   "id": "713f7f6d-75c5-4993-b40a-0d77ab00d43c",
   "metadata": {},
   "outputs": [],
   "source": [
    "Tuple ↔ Set"
   ]
  },
  {
   "cell_type": "code",
   "execution_count": 7,
   "id": "df529fa4-1651-47a3-9f7d-c29f25723886",
   "metadata": {},
   "outputs": [
    {
     "name": "stdout",
     "output_type": "stream",
     "text": [
      "{1, 2, 3}\n",
      "(1, 2, 3)\n"
     ]
    }
   ],
   "source": [
    "my_tuple = (1, 2, 3)\n",
    "my_set = set(my_tuple) # Tuple → Set\n",
    "print(my_set)\n",
    "my_tuple2 = tuple(my_set) # Set → Tuple\n",
    "print(my_tuple2)"
   ]
  },
  {
   "cell_type": "code",
   "execution_count": null,
   "id": "4e41f493-0dfc-43a8-bce6-a1d18fbe7da6",
   "metadata": {
    "jupyter": {
     "source_hidden": true
    }
   },
   "outputs": [],
   "source": [
    "Dictionary ↔ List / Tuple / Set"
   ]
  },
  {
   "cell_type": "code",
   "execution_count": 1,
   "id": "f7a49874-d7d9-426d-bc9c-a4b7acab8166",
   "metadata": {},
   "outputs": [
    {
     "name": "stdout",
     "output_type": "stream",
     "text": [
      "['a', 'b']\n",
      "[1, 2]\n",
      "[('a', 1), ('b', 2)]\n"
     ]
    }
   ],
   "source": [
    "my_dict = {'a': 1, 'b': 2}\n",
    "keys_list = list(my_dict) \n",
    "print(keys_list)\n",
    "values_list = list(my_dict.values())\n",
    "print(values_list)\n",
    "items_list = list(my_dict.items()) #   tuple(my_dict.items()) for tuple\n",
    "print(items_list)\n"
   ]
  },
  {
   "cell_type": "code",
   "execution_count": null,
   "id": "02c5081d-d05c-4119-a424-bdb59b351924",
   "metadata": {},
   "outputs": [],
   "source": []
  }
 ],
 "metadata": {
  "kernelspec": {
   "display_name": "Python 3 (ipykernel)",
   "language": "python",
   "name": "python3"
  },
  "language_info": {
   "codemirror_mode": {
    "name": "ipython",
    "version": 3
   },
   "file_extension": ".py",
   "mimetype": "text/x-python",
   "name": "python",
   "nbconvert_exporter": "python",
   "pygments_lexer": "ipython3",
   "version": "3.12.9"
  }
 },
 "nbformat": 4,
 "nbformat_minor": 5
}
